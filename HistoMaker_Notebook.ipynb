{
 "cells": [
  {
   "cell_type": "code",
   "execution_count": 1,
   "id": "01bd892a",
   "metadata": {},
   "outputs": [],
   "source": [
    "import os,sys\n",
    "sys.path.append(\"%s/analysis-CommonTools/\"%os.getenv('HOME'))\n",
    "from common_imports import *\n",
    "from matplotlib_tools import *"
   ]
  },
  {
   "cell_type": "code",
   "execution_count": 2,
   "id": "e7b45e41",
   "metadata": {},
   "outputs": [
    {
     "name": "stdout",
     "output_type": "stream",
     "text": [
      "Welcome to JupyROOT 6.22/08\n"
     ]
    }
   ],
   "source": [
    "import ROOT"
   ]
  },
  {
   "cell_type": "code",
   "execution_count": 3,
   "id": "fedec975",
   "metadata": {},
   "outputs": [],
   "source": [
    "ROOT.EnableImplicitMT()"
   ]
  },
  {
   "cell_type": "code",
   "execution_count": 4,
   "id": "41393f70",
   "metadata": {},
   "outputs": [],
   "source": [
    "%jsroot on"
   ]
  },
  {
   "cell_type": "code",
   "execution_count": 5,
   "id": "07b7f9ff",
   "metadata": {},
   "outputs": [],
   "source": [
    "def prepare_df(df,selection):\n",
    "    \n",
    "    df_sel = df.Filter(selection)\n",
    "    \n",
    "    df_sel = df_sel.Define(\"angle_azimuth\",\"atan(dir.x/dir.z)\")\n",
    "    df_sel = df_sel.Define(\"angle_zenith\",\"atan(sqrt(dir.x*dir.x+dir.y*dir.y)/dir.z)\")\n",
    "\n",
    "    df_planes = {}\n",
    "    \n",
    "    for p in range(3):\n",
    "        #hitstr=\"hits%d\"%plane\n",
    "        df_sel = df_sel.Define(f\"hits{p}_n\",\n",
    "                               f\"hits{p}.dir.x.size()\")\n",
    "        df_planes[p] = df_sel.Filter(f\"hits{p}_n > 0\")\n",
    "        df_planes[p] = df_planes[p].Define(f\"hits{p}_angle_azimuth\",\n",
    "                                           f\"atan(hits{p}.dir.x.back()/hits{p}.dir.z.back())\")\n",
    "        df_planes[p] = df_planes[p].Define(f\"hits{p}_angle_zenith\",\n",
    "                                           f\"atan(sqrt(hits{p}.dir.x.back()*hits{p}.dir.x.back()+hits{p}.dir.y.back()*hits{p}.dir.y.back())/hits{p}.dir.z.back())\")\n",
    "        for var in [\"dqdx\"]:\n",
    "            df_planes[p] = df_planes[p].Define(f\"hits{p}_{var}_mean\",\n",
    "                                               f\"ROOT::VecOps::Mean(hits{p}.{var})\")\n",
    "        for hvar in [\"integral\",\"width\"]:\n",
    "            df_planes[p] = df_planes[p].Define(f\"hits{p}_{hvar}_mean\",\n",
    "                                               f\"ROOT::VecOps::Mean(hits{p}.h.{hvar})\")\n",
    "    \n",
    "    return df_sel, df_planes"
   ]
  },
  {
   "cell_type": "code",
   "execution_count": 6,
   "id": "7b9a71c4",
   "metadata": {},
   "outputs": [],
   "source": [
    "def create_histo(df,var,hist_registry):\n",
    "    if var in hist_registry:\n",
    "        return df.Histo1D(hist_registry[var],var)\n",
    "    else:\n",
    "        return df.Histo1D(var)"
   ]
  },
  {
   "cell_type": "code",
   "execution_count": 7,
   "id": "205c8d31",
   "metadata": {},
   "outputs": [],
   "source": [
    "def make_histos_dict(df,selection,hr):\n",
    "    \n",
    "    df_sel, df_sel_planes = prepare_df(df,selection)\n",
    "    \n",
    "    hists = {}\n",
    "    \n",
    "    for c in [\"x\",\"y\",\"z\"]:\n",
    "        hists[f\"start_{c}\"] = create_histo(df_sel,f\"start.{c}\",hr)\n",
    "        hists[f\"end_{c}\"] = create_histo(df_sel,f\"end.{c}\",hr)\n",
    "        hists[f\"dir_{c}\"] = create_histo(df_sel,f\"dir.{c}\",hr)\n",
    "    \n",
    "    hists[\"length\"] = create_histo(df_sel,\"length\",hr)\n",
    "    hists[\"t0\"] = create_histo(df_sel,\"t0\",hr)\n",
    "    hists[\"angle_azimuth\"] = create_histo(df_sel,\"angle_azimuth\",hr)\n",
    "    hists[\"angle_zenith\"] = create_histo(df_sel,\"angle_zenith\",hr)\n",
    "    \n",
    "    for p in range(3):\n",
    "        for v in [\"dqdx_mean\",\"integral_mean\",\"width_mean\",\"angle_azimuth\",\"angle_zenith\",\"n\"]:\n",
    "            hists[f\"hits{p}_{v}\"] = create_histo(df_sel_planes[p],f\"hits{p}_{v}\",hr)\n",
    "    \n",
    "    return hists, df_sel, df_sel_planes"
   ]
  },
  {
   "cell_type": "code",
   "execution_count": 39,
   "id": "d8b5415d",
   "metadata": {},
   "outputs": [],
   "source": [
    "def compare_histos(hist_names,histos_1,histos_2):\n",
    "    for name in hist_names:\n",
    "        if name in histos_1.keys() and name in histos_2.keys(): \n",
    "            print(f\"{name}: Chi2Test={histos_1[name].Chi2Test(histos_2[name].GetPtr(),'NORM')}\")\n",
    "        else:\n",
    "            print(f\"Couldn't find {name} in both histogram sets.\")"
   ]
  },
  {
   "cell_type": "code",
   "execution_count": 41,
   "id": "9be3d252",
   "metadata": {},
   "outputs": [],
   "source": [
    "def draw_histos(hname,hists_data,hists_mc):\n",
    "    hists_mc[hname].SetLineColor(ROOT.kBlue)\n",
    "    hists_data[hname].SetLineColor(ROOT.kRed)\n",
    "\n",
    "    hists_data[hname].DrawNormalized()\n",
    "    hists_mc[hname].DrawNormalized(\"SAME\")\n",
    "    \n",
    "    return c.Draw()"
   ]
  },
  {
   "cell_type": "code",
   "execution_count": 8,
   "id": "cac57af0",
   "metadata": {},
   "outputs": [],
   "source": [
    "hist_registry = {}\n",
    "\n",
    "hist_registry[\"start_x\"] = (\"\",\"Start X;x (cm);Tracks\",100,-400,400)\n",
    "hist_registry[\"start_y\"] = (\"\",\"Start Y;y (cm);Tracks\",100,-150,150)\n",
    "hist_registry[\"start_z\"] = (\"\",\"Start Z;z (cm);Tracks\",100,-1500,1500)\n",
    "\n",
    "hist_registry[\"end_x\"] = (\"\",\"End X;x (cm);Tracks\",100,-400,400)\n",
    "hist_registry[\"end_y\"] = (\"\",\"End Y;y (cm);Tracks\",100,-150,150)\n",
    "hist_registry[\"end_z\"] = (\"\",\"End Z;z (cm);Tracks\",100,-1500,1500)\n",
    "\n",
    "hist_registry[\"length\"] = (\"\",\"Length;length (cm);Tracks\",100,0,1500)\n",
    "hist_registry[\"t0\"] = (\"\",\"T_{0};time (#mus);Tracks\",100,-1.5e6,1.5e6)\n",
    "hist_registry[\"angle_azimuth\"] = (\"\",\"Azimuthal Angle;azimuth (rad);Tracks\",100,-0.5*np.pi,0.5*np.pi)\n",
    "hist_registry[\"angle_zenith\"] = (\"\",\"Zenith Angle;zenith (rad);Tracks\",100,-0.5*np.pi,0.5*np.pi)\n",
    "\n",
    "hist_registry[\"hits0_dqdx_mean\"] = (\"\",\"Mean dQdx (Plane 0);dqdx;Tracks\",100,0,1500)\n",
    "hist_registry[\"hits1_dqdx_mean\"] = (\"\",\"Mean dQdx (Plane 1);dqdx;Tracks\",100,0,1500)\n",
    "hist_registry[\"hits2_dqdx_mean\"] = (\"\",\"Mean dQdx (Plane 2);dqdx;Tracks\",100,0,1500)\n",
    "\n",
    "hist_registry[\"hits0_integral_mean\"] = (\"\",\"Mean Integral Charge (Plane 0);charge (adc);Tracks\",100,0,1000)\n",
    "hist_registry[\"hits1_integral_mean\"] = (\"\",\"Mean Integral Charge (Plane 1);charge (adc);Tracks\",100,0,1000)\n",
    "hist_registry[\"hits2_integral_mean\"] = (\"\",\"Mean Integral Charge (Plane 2);charge (adc);Tracks\",100,0,1000)\n",
    "\n",
    "hist_registry[\"hits0_width_mean\"] = (\"\",\"Mean Hit Width (Plane 0);width (ticks);Tracks\",100,0,10)\n",
    "hist_registry[\"hits1_width_mean\"] = (\"\",\"Mean Hit Width (Plane 1);width (ticks);Tracks\",100,0,10)\n",
    "hist_registry[\"hits2_width_mean\"] = (\"\",\"Mean Hit Width (Plane 2);width (ticks);Tracks\",100,0,10)\n"
   ]
  },
  {
   "cell_type": "code",
   "execution_count": 9,
   "id": "79f06805",
   "metadata": {},
   "outputs": [],
   "source": [
    "#bnb_sim_files_dir = \"/Users/wketchum/Data/ICARUS/CalibrationNtuples_10Mar2022/ICARUS_BNB_Nu_Cosmics\"\n",
    "#bnb_data_files_dir = \"/Users/wketchum/Data/ICARUS/CalibrationNtuples_10Mar2022/ICARUS_BNB_Data\"\n",
    "\n",
    "bnb_sim_files_dir = \"/pnfs/icarus/persistent/calibration/calib_ntuples/mc/ICARUS_BNB_Nu_Cosmics\"\n",
    "bnb_data_files_dir = \"/pnfs/icarus/persistent/calibration/calib_ntuples/data\""
   ]
  },
  {
   "cell_type": "code",
   "execution_count": 10,
   "id": "c08dc268",
   "metadata": {},
   "outputs": [],
   "source": [
    "c = ROOT.TCanvas()"
   ]
  },
  {
   "cell_type": "code",
   "execution_count": 11,
   "id": "de8fde44",
   "metadata": {},
   "outputs": [],
   "source": [
    "selection_stopping = \"selected==0\""
   ]
  },
  {
   "cell_type": "code",
   "execution_count": 12,
   "id": "7db07c46",
   "metadata": {},
   "outputs": [
    {
     "name": "stdout",
     "output_type": "stream",
     "text": [
      "Found 2291 BNB sim files in our list.\n"
     ]
    }
   ],
   "source": [
    "files_bnb_sim = ROOT.TFileCollection()\n",
    "files_bnb_sim.Add(f\"{bnb_sim_files_dir}/hist_prodcorsika_bnb*.root\")\n",
    "print(\"Found %d BNB sim files in our list.\"%files_bnb_sim.GetNFiles())"
   ]
  },
  {
   "cell_type": "code",
   "execution_count": 13,
   "id": "662fd36b",
   "metadata": {},
   "outputs": [
    {
     "name": "stdout",
     "output_type": "stream",
     "text": [
      "Found 787 BNB data files in our list.\n"
     ]
    }
   ],
   "source": [
    "files_bnb_data = ROOT.TFileCollection()\n",
    "files_bnb_data.Add(f\"{bnb_data_files_dir}/hist_data_dl4_fstrmBNB*.root\")\n",
    "print(\"Found %d BNB data files in our list.\"%files_bnb_data.GetNFiles())"
   ]
  },
  {
   "cell_type": "code",
   "execution_count": 14,
   "id": "9f5d55f5",
   "metadata": {},
   "outputs": [
    {
     "data": {
      "text/plain": [
       "1"
      ]
     },
     "execution_count": 14,
     "metadata": {},
     "output_type": "execute_result"
    }
   ],
   "source": [
    "chain_bnb_sim = ROOT.TChain(\"caloskimE/TrackCaloSkim\");\n",
    "chain_bnb_sim.AddFileInfoList(files_bnb_sim.GetList())"
   ]
  },
  {
   "cell_type": "code",
   "execution_count": 15,
   "id": "54c3880c",
   "metadata": {},
   "outputs": [
    {
     "data": {
      "text/plain": [
       "1"
      ]
     },
     "execution_count": 15,
     "metadata": {},
     "output_type": "execute_result"
    }
   ],
   "source": [
    "chain_bnb_data = ROOT.TChain(\"caloskimE/TrackCaloSkim\");\n",
    "chain_bnb_data.AddFileInfoList(files_bnb_data.GetList())"
   ]
  },
  {
   "cell_type": "code",
   "execution_count": 16,
   "id": "62389c74",
   "metadata": {},
   "outputs": [],
   "source": [
    "#df_bnb_sim_stopping = prepare_df(ROOT.RDataFrame(chain_bnb_sim),selection_stopping)\n",
    "hists_bnb_sim_stopping, df_sim_stopping, df_sim_stopping_planes = make_histos_dict(ROOT.RDataFrame(chain_bnb_sim),\n",
    "                                                                                   selection_stopping,\n",
    "                                                                                   hist_registry)"
   ]
  },
  {
   "cell_type": "code",
   "execution_count": 17,
   "id": "b3399c08",
   "metadata": {},
   "outputs": [],
   "source": [
    "#df_bnb_data_stopping = prepare_df(ROOT.RDataFrame(chain_bnb_data),selection_stopping)\n",
    "hists_bnb_data_stopping, df_data_stopping, df_data_stopping_planes = make_histos_dict(ROOT.RDataFrame(chain_bnb_data),\n",
    "                                                                                      selection_stopping,\n",
    "                                                                                      hist_registry)"
   ]
  },
  {
   "cell_type": "code",
   "execution_count": 18,
   "id": "6c951553",
   "metadata": {},
   "outputs": [],
   "source": [
    "#ROOT.RDF.SaveGraph(hists_bnb_sim_stopping[\"hits2_dqdx_mean\"])"
   ]
  },
  {
   "cell_type": "code",
   "execution_count": 19,
   "id": "c01a86dc",
   "metadata": {
    "scrolled": false
   },
   "outputs": [
    {
     "data": {
      "text/html": [
       "\n",
       "\n",
       "<div id=\"root_plot_1646918219536\"\n",
       "     style=\"width: 696px; height: 472px\">\n",
       "</div>\n",
       "<script>\n",
       "\n",
       "function display_root_plot_1646918219536(Core) {\n",
       "   let obj = Core.JSONR_unref({\"_typename\":\"TCanvas\",\"fUniqueID\":0,\"fBits\":3342344,\"fLineColor\":1,\"fLineStyle\":1,\"fLineWidth\":1,\"fFillColor\":0,\"fFillStyle\":1001,\"fLeftMargin\":0.1,\"fRightMargin\":0.1,\"fBottomMargin\":0.1,\"fTopMargin\":0.1,\"fXfile\":2,\"fYfile\":2,\"fAfile\":1,\"fXstat\":0.99,\"fYstat\":0.99,\"fAstat\":2,\"fFrameFillColor\":0,\"fFrameLineColor\":1,\"fFrameFillStyle\":1001,\"fFrameLineStyle\":1,\"fFrameLineWidth\":1,\"fFrameBorderSize\":1,\"fFrameBorderMode\":0,\"fX1\":-187.500013969839,\"fY1\":-0.0147495939328066,\"fX2\":1687.50001396984,\"fY2\":0.132746336603816,\"fXtoAbsPixelk\":69.6000541484835,\"fXtoPixelk\":69.6000541484835,\"fXtoPixel\":0.371199994468689,\"fYtoAbsPixelk\":424.800047186661,\"fYtoPixelk\":424.800047186661,\"fYtoPixel\":-3200.08828909895,\"fUtoAbsPixelk\":5e-5,\"fUtoPixelk\":5e-5,\"fUtoPixel\":696,\"fVtoAbsPixelk\":472.00005,\"fVtoPixelk\":472,\"fVtoPixel\":-472,\"fAbsPixeltoXk\":-187.500013969839,\"fPixeltoXk\":-187.500013969839,\"fPixeltoX\":2.6939655573846,\"fAbsPixeltoYk\":0.132746336603816,\"fPixeltoYk\":-0.0147495939328066,\"fPixeltoY\":-3.12491378255557e-4,\"fXlowNDC\":0,\"fYlowNDC\":0,\"fXUpNDC\":1,\"fYUpNDC\":1,\"fWNDC\":1,\"fHNDC\":1,\"fAbsXlowNDC\":0,\"fAbsYlowNDC\":0,\"fAbsWNDC\":1,\"fAbsHNDC\":1,\"fUxmin\":0,\"fUymin\":0,\"fUxmax\":1500,\"fUymax\":0.11799674267101,\"fTheta\":30,\"fPhi\":30,\"fAspectRatio\":0,\"fNumber\":0,\"fTickx\":0,\"fTicky\":0,\"fLogx\":0,\"fLogy\":0,\"fLogz\":0,\"fPadPaint\":0,\"fCrosshair\":0,\"fCrosshairPos\":0,\"fBorderSize\":2,\"fBorderMode\":0,\"fModified\":false,\"fGridx\":false,\"fGridy\":false,\"fAbsCoord\":false,\"fEditable\":true,\"fFixedAspectRatio\":false,\"fPrimitives\":{\"_typename\":\"TList\",\"name\":\"TList\",\"arr\":[{\"_typename\":\"TFrame\",\"fUniqueID\":0,\"fBits\":8,\"fLineColor\":1,\"fLineStyle\":1,\"fLineWidth\":1,\"fFillColor\":0,\"fFillStyle\":1001,\"fX1\":0,\"fY1\":0,\"fX2\":1500,\"fY2\":0.11799674267101,\"fBorderSize\":1,\"fBorderMode\":0},{\"_typename\":\"TH1D\",\"fUniqueID\":0,\"fBits\":9,\"fName\":\"\",\"fTitle\":\"Mean dQdx (Plane 2)\",\"fLineColor\":632,\"fLineStyle\":1,\"fLineWidth\":1,\"fFillColor\":0,\"fFillStyle\":1001,\"fMarkerColor\":1,\"fMarkerStyle\":1,\"fMarkerSize\":1,\"fNcells\":102,\"fXaxis\":{\"_typename\":\"TAxis\",\"fUniqueID\":0,\"fBits\":0,\"fName\":\"xaxis\",\"fTitle\":\"dqdx\",\"fNdivisions\":510,\"fAxisColor\":1,\"fLabelColor\":1,\"fLabelFont\":42,\"fLabelOffset\":0.005,\"fLabelSize\":0.035,\"fTickLength\":0.03,\"fTitleOffset\":1,\"fTitleSize\":0.035,\"fTitleColor\":1,\"fTitleFont\":42,\"fNbins\":100,\"fXmin\":0,\"fXmax\":1500,\"fXbins\":[],\"fFirst\":0,\"fLast\":0,\"fBits2\":0,\"fTimeDisplay\":false,\"fTimeFormat\":\"\",\"fLabels\":null,\"fModLabs\":null},\"fYaxis\":{\"_typename\":\"TAxis\",\"fUniqueID\":0,\"fBits\":0,\"fName\":\"yaxis\",\"fTitle\":\"Tracks\",\"fNdivisions\":510,\"fAxisColor\":1,\"fLabelColor\":1,\"fLabelFont\":42,\"fLabelOffset\":0.005,\"fLabelSize\":0.035,\"fTickLength\":0.03,\"fTitleOffset\":0,\"fTitleSize\":0.035,\"fTitleColor\":1,\"fTitleFont\":42,\"fNbins\":1,\"fXmin\":0,\"fXmax\":1,\"fXbins\":[],\"fFirst\":0,\"fLast\":0,\"fBits2\":0,\"fTimeDisplay\":false,\"fTimeFormat\":\"\",\"fLabels\":null,\"fModLabs\":null},\"fZaxis\":{\"_typename\":\"TAxis\",\"fUniqueID\":0,\"fBits\":0,\"fName\":\"zaxis\",\"fTitle\":\"\",\"fNdivisions\":510,\"fAxisColor\":1,\"fLabelColor\":1,\"fLabelFont\":42,\"fLabelOffset\":0.005,\"fLabelSize\":0.035,\"fTickLength\":0.03,\"fTitleOffset\":1,\"fTitleSize\":0.035,\"fTitleColor\":1,\"fTitleFont\":42,\"fNbins\":1,\"fXmin\":0,\"fXmax\":1,\"fXbins\":[],\"fFirst\":0,\"fLast\":0,\"fBits2\":0,\"fTimeDisplay\":false,\"fTimeFormat\":\"\",\"fLabels\":null,\"fModLabs\":null},\"fBarOffset\":0,\"fBarWidth\":1000,\"fEntries\":4302,\"fTsumw\":1,\"fTsumw2\":2.32666356444858e-4,\"fTsumwx\":622.490894118411,\"fTsumwx2\":402848.18808389,\"fMaximum\":-1111,\"fMinimum\":-1111,\"fNormFactor\":0,\"fContour\":[],\"fSumw2\":[0,0,0,0,0,0,1.08267266842652e-7,1.08267266842652e-7,1.62400900263977e-7,3.7893543394928e-7,2.70668167106629e-7,1.08267266842652e-7,1.08267266842652e-7,3.24801800527955e-7,2.70668167106629e-7,4.33069067370606e-7,8.66138134741212e-7,5.41336334213258e-8,2.70668167106629e-7,2.16534533685303e-7,6.49603601055909e-7,4.87202700791932e-7,5.95469967634583e-7,5.95469967634583e-7,1.35334083553314e-6,1.02853903500519e-6,9.74405401583864e-7,1.51574173579712e-6,1.94881080316773e-6,1.8946771697464e-6,1.8946771697464e-6,1.8946771697464e-6,2.76081530448761e-6,2.38187987053833e-6,2.27361260369568e-6,3.7893543394928e-6,4.49309157397004e-6,5.08856154160462e-6,6.00883330976716e-6,8.60724771399079e-6,1.32086065548035e-5,1.80264999293015e-5,2.48473377403885e-5,2.50638722740738e-5,2.61465449425003e-5,2.26819924035355e-5,1.4453680123494e-5,1.09891275845291e-5,6.65843691082307e-6,3.46455253896485e-6,2.16534533685303e-6,1.94881080316773e-6,7.57870867898561e-7,8.12004501319886e-7,8.66138134741212e-7,5.41336334213258e-7,3.24801800527955e-7,3.7893543394928e-7,4.33069067370606e-7,3.7893543394928e-7,2.16534533685303e-7,1.08267266842652e-7,2.70668167106629e-7,1.62400900263977e-7,0,2.70668167106629e-7,1.08267266842652e-7,2.16534533685303e-7,1.08267266842652e-7,1.62400900263977e-7,2.16534533685303e-7,5.41336334213258e-8,5.41336334213258e-8,0,1.08267266842652e-7,1.62400900263977e-7,2.16534533685303e-7,1.62400900263977e-7,1.08267266842652e-7,1.08267266842652e-7,2.70668167106629e-7,1.62400900263977e-7,5.41336334213258e-8,1.62400900263977e-7,1.62400900263977e-7,1.62400900263977e-7,0,1.08267266842652e-7,0,1.62400900263977e-7,5.41336334213258e-8,5.41336334213258e-8,1.08267266842652e-7,1.08267266842652e-7,1.08267266842652e-7,5.41336334213258e-8,0,5.41336334213258e-8,0,0,0,2.16534533685303e-7],\"fOption\":\"\",\"fFunctions\":{\"_typename\":\"TList\",\"name\":\"TList\",\"arr\":[{\"_typename\":\"TPaveStats\",\"fUniqueID\":0,\"fBits\":9,\"fLineColor\":1,\"fLineStyle\":1,\"fLineWidth\":1,\"fFillColor\":0,\"fFillStyle\":1001,\"fX1\":1275.00003799796,\"fY1\":0.0995597531122205,\"fX2\":1650.00004917383,\"fY2\":0.123159101470594,\"fX1NDC\":0.780000016093254,\"fY1NDC\":0.775000005960464,\"fX2NDC\":0.980000019073486,\"fY2NDC\":0.935000002384186,\"fBorderSize\":1,\"fInit\":1,\"fShadowColor\":1,\"fCornerRadius\":0,\"fOption\":\"brNDC\",\"fName\":\"stats\",\"fTextAngle\":0,\"fTextSize\":0,\"fTextAlign\":12,\"fTextColor\":1,\"fTextFont\":42,\"fLabel\":\"\",\"fLongest\":18,\"fMargin\":0.05,\"fLines\":{\"_typename\":\"TList\",\"name\":\"TList\",\"arr\":[{\"_typename\":\"TLatex\",\"fUniqueID\":0,\"fBits\":0,\"fName\":\"\",\"fTitle\":\"\",\"fTextAngle\":0,\"fTextSize\":0.0368,\"fTextAlign\":0,\"fTextColor\":0,\"fTextFont\":0,\"fX\":0,\"fY\":0,\"fLineColor\":1,\"fLineStyle\":1,\"fLineWidth\":2,\"fLimitFactorSize\":3,\"fOriginSize\":0.04},{\"_typename\":\"TLatex\",\"fUniqueID\":0,\"fBits\":0,\"fName\":\"\",\"fTitle\":\"Entries = 4302   \",\"fTextAngle\":0,\"fTextSize\":0,\"fTextAlign\":0,\"fTextColor\":0,\"fTextFont\":0,\"fX\":0,\"fY\":0,\"fLineColor\":1,\"fLineStyle\":1,\"fLineWidth\":2,\"fLimitFactorSize\":3,\"fOriginSize\":0.04},{\"_typename\":\"TLatex\",\"fUniqueID\":0,\"fBits\":0,\"fName\":\"\",\"fTitle\":\"Mean  =  622.5\",\"fTextAngle\":0,\"fTextSize\":0,\"fTextAlign\":0,\"fTextColor\":0,\"fTextFont\":0,\"fX\":0,\"fY\":0,\"fLineColor\":1,\"fLineStyle\":1,\"fLineWidth\":2,\"fLimitFactorSize\":3,\"fOriginSize\":0.04},{\"_typename\":\"TLatex\",\"fUniqueID\":0,\"fBits\":0,\"fName\":\"\",\"fTitle\":\"Std Dev   =  123.9\",\"fTextAngle\":0,\"fTextSize\":0,\"fTextAlign\":0,\"fTextColor\":0,\"fTextFont\":0,\"fX\":0,\"fY\":0,\"fLineColor\":1,\"fLineStyle\":1,\"fLineWidth\":2,\"fLimitFactorSize\":3,\"fOriginSize\":0.04}],\"opt\":[\"\",\"\",\"\",\"\"]},\"fOptFit\":0,\"fOptStat\":1111,\"fFitFormat\":\"5.4g\",\"fStatFormat\":\"6.4g\",\"fParent\":{\"$ref\":3}}],\"opt\":[\"brNDC\"]},\"fBufferSize\":0,\"fBuffer\":[],\"fBinStatErrOpt\":0,\"fStatOverflows\":2,\"fArray\":[0,0,0,0,0,0,4.65332712889716e-4,4.65332712889716e-4,6.97999069334574e-4,0.00162866449511401,0.00116333178222429,4.65332712889716e-4,4.65332712889716e-4,0.00139599813866915,0.00116333178222429,0.00186133085155886,0.00372266170311773,2.32666356444858e-4,0.00116333178222429,9.30665425779432e-4,0.0027919962773383,0.00209399720800372,0.00255932992089344,0.00255932992089344,0.00581665891112145,0.0044206607724523,0.00418799441600745,0.00651465798045603,0.00837598883201489,0.00814332247557003,0.00814332247557003,0.00814332247557003,0.0118659841786878,0.0102373196835738,0.00977198697068404,0.0162866449511401,0.0193113075849232,0.0218706375058167,0.0258259655653792,0.0369939506747324,0.0567705909725454,0.0774778966961377,0.10679385760819,0.107724523033969,0.112377850162866,0.0974872033503955,0.0621219171707771,0.0472312703583062,0.0286179618427175,0.0148906468124709,0.00930665425779432,0.00837598883201489,0.00325732899022801,0.00348999534667287,0.00372266170311773,0.00232666356444858,0.00139599813866915,0.00162866449511401,0.00186133085155886,0.00162866449511401,9.30665425779432e-4,4.65332712889716e-4,0.00116333178222429,6.97999069334574e-4,0,0.00116333178222429,4.65332712889716e-4,9.30665425779432e-4,4.65332712889716e-4,6.97999069334574e-4,9.30665425779432e-4,2.32666356444858e-4,2.32666356444858e-4,0,4.65332712889716e-4,6.97999069334574e-4,9.30665425779432e-4,6.97999069334574e-4,4.65332712889716e-4,4.65332712889716e-4,0.00116333178222429,6.97999069334574e-4,2.32666356444858e-4,6.97999069334574e-4,6.97999069334574e-4,6.97999069334574e-4,0,4.65332712889716e-4,0,6.97999069334574e-4,2.32666356444858e-4,2.32666356444858e-4,4.65332712889716e-4,4.65332712889716e-4,4.65332712889716e-4,2.32666356444858e-4,0,2.32666356444858e-4,0,0,0,9.30665425779432e-4]},{\"_typename\":\"TH1D\",\"fUniqueID\":0,\"fBits\":9,\"fName\":\"\",\"fTitle\":\"Mean dQdx (Plane 2)\",\"fLineColor\":600,\"fLineStyle\":1,\"fLineWidth\":1,\"fFillColor\":0,\"fFillStyle\":1001,\"fMarkerColor\":1,\"fMarkerStyle\":1,\"fMarkerSize\":1,\"fNcells\":102,\"fXaxis\":{\"_typename\":\"TAxis\",\"fUniqueID\":0,\"fBits\":0,\"fName\":\"xaxis\",\"fTitle\":\"dqdx\",\"fNdivisions\":510,\"fAxisColor\":1,\"fLabelColor\":1,\"fLabelFont\":42,\"fLabelOffset\":0.005,\"fLabelSize\":0.035,\"fTickLength\":0.03,\"fTitleOffset\":1,\"fTitleSize\":0.035,\"fTitleColor\":1,\"fTitleFont\":42,\"fNbins\":100,\"fXmin\":0,\"fXmax\":1500,\"fXbins\":[],\"fFirst\":0,\"fLast\":0,\"fBits2\":0,\"fTimeDisplay\":false,\"fTimeFormat\":\"\",\"fLabels\":null,\"fModLabs\":null},\"fYaxis\":{\"_typename\":\"TAxis\",\"fUniqueID\":0,\"fBits\":0,\"fName\":\"yaxis\",\"fTitle\":\"Tracks\",\"fNdivisions\":510,\"fAxisColor\":1,\"fLabelColor\":1,\"fLabelFont\":42,\"fLabelOffset\":0.005,\"fLabelSize\":0.035,\"fTickLength\":0.03,\"fTitleOffset\":0,\"fTitleSize\":0.035,\"fTitleColor\":1,\"fTitleFont\":42,\"fNbins\":1,\"fXmin\":0,\"fXmax\":1,\"fXbins\":[],\"fFirst\":0,\"fLast\":0,\"fBits2\":0,\"fTimeDisplay\":false,\"fTimeFormat\":\"\",\"fLabels\":null,\"fModLabs\":null},\"fZaxis\":{\"_typename\":\"TAxis\",\"fUniqueID\":0,\"fBits\":0,\"fName\":\"zaxis\",\"fTitle\":\"\",\"fNdivisions\":510,\"fAxisColor\":1,\"fLabelColor\":1,\"fLabelFont\":42,\"fLabelOffset\":0.005,\"fLabelSize\":0.035,\"fTickLength\":0.03,\"fTitleOffset\":1,\"fTitleSize\":0.035,\"fTitleColor\":1,\"fTitleFont\":42,\"fNbins\":1,\"fXmin\":0,\"fXmax\":1,\"fXbins\":[],\"fFirst\":0,\"fLast\":0,\"fBits2\":0,\"fTimeDisplay\":false,\"fTimeFormat\":\"\",\"fLabels\":null,\"fModLabs\":null},\"fBarOffset\":0,\"fBarWidth\":1000,\"fEntries\":3335,\"fTsumw\":1,\"fTsumw2\":3.00120048019208e-4,\"fTsumwx\":633.103520475246,\"fTsumwx2\":412972.971489797,\"fMaximum\":-1111,\"fMinimum\":-1111,\"fNormFactor\":0,\"fContour\":[],\"fSumw2\":[0,0,0,0,0,0,0,0,9.00720432230515e-8,1.80144086446103e-7,0,9.00720432230515e-8,9.00720432230515e-8,4.50360216115258e-7,4.50360216115258e-7,5.40432259338309e-7,1.80144086446103e-7,5.40432259338309e-7,4.50360216115258e-7,2.70216129669155e-7,9.90792475453567e-7,1.08086451867662e-6,1.35108064834577e-6,9.90792475453567e-7,1.62129677801493e-6,2.25180108057629e-6,1.89151290768408e-6,2.34187312379934e-6,1.80144086446103e-6,1.62129677801493e-6,2.25180108057629e-6,2.9723774263607e-6,2.16172903735324e-6,3.24259355602985e-6,3.87309785859122e-6,5.31425055016004e-6,5.7646107662753e-6,6.39511506883666e-6,6.75540324172886e-6,9.45756453842041e-6,1.23398699215581e-5,1.30604462673425e-5,1.95456333794022e-5,2.02662097251866e-5,2.2698154892209e-5,2.7922333399146e-5,2.8012405442369e-5,2.73819011398077e-5,2.02662097251866e-5,1.48618871318035e-5,1.09887892732123e-5,4.86389033404478e-6,2.52201721024544e-6,2.70216129669155e-6,1.17093656189967e-6,2.70216129669155e-7,3.60288172892206e-7,6.30504302561361e-7,7.20576345784412e-7,3.60288172892206e-7,3.60288172892206e-7,9.00720432230515e-8,0,9.00720432230515e-8,0,1.80144086446103e-7,1.80144086446103e-7,0,9.00720432230515e-8,9.00720432230515e-8,0,0,0,9.00720432230515e-8,0,0,0,0,0,9.00720432230515e-8,0,9.00720432230515e-8,0,9.00720432230515e-8,9.00720432230515e-8,0,0,0,0,0,9.00720432230515e-8,0,9.00720432230515e-8,0,0,0,0,0,0,0,0,2.70216129669155e-7],\"fOption\":\"\",\"fFunctions\":{\"_typename\":\"TList\",\"name\":\"TList\",\"arr\":[],\"opt\":[]},\"fBufferSize\":0,\"fBuffer\":[],\"fBinStatErrOpt\":0,\"fStatOverflows\":2,\"fArray\":[0,0,0,0,0,0,0,0,3.00120048019208e-4,6.00240096038415e-4,0,3.00120048019208e-4,3.00120048019208e-4,0.00150060024009604,0.00150060024009604,0.00180072028811525,6.00240096038415e-4,0.00180072028811525,0.00150060024009604,9.00360144057623e-4,0.00330132052821128,0.00360144057623049,0.00450180072028811,0.00330132052821128,0.00540216086434574,0.00750300120048019,0.00630252100840336,0.0078031212484994,0.00600240096038415,0.00540216086434574,0.00750300120048019,0.00990396158463385,0.00720288115246098,0.0108043217286915,0.0129051620648259,0.0177070828331333,0.0192076830732293,0.0213085234093637,0.0225090036014406,0.0315126050420168,0.0411164465786314,0.0435174069627851,0.0651260504201681,0.0675270108043217,0.0756302521008403,0.0930372148859544,0.0933373349339736,0.0912364945978391,0.0675270108043217,0.0495198079231693,0.0366146458583433,0.0162064825930372,0.00840336134453781,0.00900360144057623,0.0039015606242497,9.00360144057623e-4,0.00120048019207683,0.00210084033613445,0.00240096038415366,0.00120048019207683,0.00120048019207683,3.00120048019208e-4,0,3.00120048019208e-4,0,6.00240096038415e-4,6.00240096038415e-4,0,3.00120048019208e-4,3.00120048019208e-4,0,0,0,3.00120048019208e-4,0,0,0,0,0,3.00120048019208e-4,0,3.00120048019208e-4,0,3.00120048019208e-4,3.00120048019208e-4,0,0,0,0,0,3.00120048019208e-4,0,3.00120048019208e-4,0,0,0,0,0,0,0,0,9.00360144057623e-4]},{\"_typename\":\"TPaveText\",\"fUniqueID\":0,\"fBits\":9,\"fLineColor\":1,\"fLineStyle\":1,\"fLineWidth\":1,\"fFillColor\":0,\"fFillStyle\":0,\"fX1\":414.709046727913,\"fY1\":0.123384095614595,\"fX2\":1085.29095327209,\"fY2\":0.132008857654449,\"fX1NDC\":0.32117816091954,\"fY1NDC\":0.936525428497185,\"fX2NDC\":0.67882183908046,\"fY2NDC\":0.995000004768372,\"fBorderSize\":0,\"fInit\":1,\"fShadowColor\":1,\"fCornerRadius\":0,\"fOption\":\"blNDC\",\"fName\":\"title\",\"fTextAngle\":0,\"fTextSize\":0,\"fTextAlign\":22,\"fTextColor\":1,\"fTextFont\":42,\"fLabel\":\"\",\"fLongest\":19,\"fMargin\":0.05,\"fLines\":{\"_typename\":\"TList\",\"name\":\"TList\",\"arr\":[{\"_typename\":\"TLatex\",\"fUniqueID\":0,\"fBits\":0,\"fName\":\"\",\"fTitle\":\"Mean dQdx (Plane 2)\",\"fTextAngle\":0,\"fTextSize\":0,\"fTextAlign\":0,\"fTextColor\":0,\"fTextFont\":0,\"fX\":0,\"fY\":0,\"fLineColor\":1,\"fLineStyle\":1,\"fLineWidth\":2,\"fLimitFactorSize\":3,\"fOriginSize\":0.0497033894062042}],\"opt\":[\"\"]}},{\"_typename\":\"TStyle\",\"fUniqueID\":0,\"fBits\":0,\"fName\":\"Modern\",\"fTitle\":\"Modern Style\",\"fLineColor\":1,\"fLineStyle\":1,\"fLineWidth\":1,\"fFillColor\":19,\"fFillStyle\":1001,\"fMarkerColor\":1,\"fMarkerStyle\":1,\"fMarkerSize\":1,\"fTextAngle\":0,\"fTextSize\":0.05,\"fTextAlign\":11,\"fTextColor\":1,\"fTextFont\":62,\"fXaxis\":{\"_typename\":\"TAttAxis\",\"fNdivisions\":510,\"fAxisColor\":1,\"fLabelColor\":1,\"fLabelFont\":42,\"fLabelOffset\":0.005,\"fLabelSize\":0.035,\"fTickLength\":0.03,\"fTitleOffset\":1,\"fTitleSize\":0.035,\"fTitleColor\":1,\"fTitleFont\":42},\"fYaxis\":{\"_typename\":\"TAttAxis\",\"fNdivisions\":510,\"fAxisColor\":1,\"fLabelColor\":1,\"fLabelFont\":42,\"fLabelOffset\":0.005,\"fLabelSize\":0.035,\"fTickLength\":0.03,\"fTitleOffset\":0,\"fTitleSize\":0.035,\"fTitleColor\":1,\"fTitleFont\":42},\"fZaxis\":{\"_typename\":\"TAttAxis\",\"fNdivisions\":510,\"fAxisColor\":1,\"fLabelColor\":1,\"fLabelFont\":42,\"fLabelOffset\":0.005,\"fLabelSize\":0.035,\"fTickLength\":0.03,\"fTitleOffset\":1,\"fTitleSize\":0.035,\"fTitleColor\":1,\"fTitleFont\":42},\"fBarWidth\":1,\"fBarOffset\":0,\"fColorModelPS\":0,\"fDrawBorder\":0,\"fOptLogx\":0,\"fOptLogy\":0,\"fOptLogz\":0,\"fOptDate\":0,\"fOptStat\":1111,\"fOptTitle\":1,\"fOptFile\":0,\"fOptFit\":0,\"fShowEventStatus\":0,\"fShowEditor\":0,\"fShowToolBar\":0,\"fNumberContours\":20,\"fAttDate\":{\"_typename\":\"TAttText\",\"fTextAngle\":0,\"fTextSize\":0.025,\"fTextAlign\":11,\"fTextColor\":1,\"fTextFont\":62},\"fDateX\":0.01,\"fDateY\":0.01,\"fEndErrorSize\":2,\"fErrorX\":0.5,\"fFuncColor\":2,\"fFuncStyle\":1,\"fFuncWidth\":2,\"fGridColor\":0,\"fGridStyle\":3,\"fGridWidth\":1,\"fLegendBorderSize\":1,\"fLegendFillColor\":0,\"fLegendFont\":42,\"fLegendTextSize\":0,\"fHatchesLineWidth\":1,\"fHatchesSpacing\":1,\"fFrameFillColor\":0,\"fFrameLineColor\":1,\"fFrameFillStyle\":1001,\"fFrameLineStyle\":1,\"fFrameLineWidth\":1,\"fFrameBorderSize\":1,\"fFrameBorderMode\":0,\"fHistFillColor\":0,\"fHistLineColor\":602,\"fHistFillStyle\":1001,\"fHistLineStyle\":1,\"fHistLineWidth\":1,\"fHistMinimumZero\":false,\"fHistTopMargin\":0.05,\"fCanvasPreferGL\":false,\"fCanvasColor\":0,\"fCanvasBorderSize\":2,\"fCanvasBorderMode\":0,\"fCanvasDefH\":500,\"fCanvasDefW\":700,\"fCanvasDefX\":10,\"fCanvasDefY\":10,\"fPadColor\":0,\"fPadBorderSize\":2,\"fPadBorderMode\":0,\"fPadBottomMargin\":0.1,\"fPadTopMargin\":0.1,\"fPadLeftMargin\":0.1,\"fPadRightMargin\":0.1,\"fPadGridX\":false,\"fPadGridY\":false,\"fPadTickX\":0,\"fPadTickY\":0,\"fPaperSizeX\":20,\"fPaperSizeY\":26,\"fScreenFactor\":1,\"fStatColor\":0,\"fStatTextColor\":1,\"fStatBorderSize\":1,\"fStatFont\":42,\"fStatFontSize\":0,\"fStatStyle\":1001,\"fStatFormat\":\"6.4g\",\"fStatX\":0.98,\"fStatY\":0.935,\"fStatW\":0.2,\"fStatH\":0.16,\"fStripDecimals\":true,\"fTitleAlign\":23,\"fTitleColor\":0,\"fTitleTextColor\":1,\"fTitleBorderSize\":0,\"fTitleFont\":42,\"fTitleFontSize\":0.05,\"fTitleStyle\":0,\"fTitleX\":0.5,\"fTitleY\":0.995,\"fTitleW\":0,\"fTitleH\":0,\"fLegoInnerR\":0.5,\"fLineStyle\":[\"\",\"  \",\" 12 12\",\" 4 8\",\" 12 16 4 16\",\" 20 12 4 12\",\" 20 12 4 12 4 12 4 12\",\" 20 20\",\" 20 12 4 12 4 12\",\" 80 20\",\" 80 40 4 40\",\"  \",\"  \",\"  \",\"  \",\"  \",\"  \",\"  \",\"  \",\"  \",\"  \",\"  \",\"  \",\"  \",\"  \",\"  \",\"  \",\"  \",\"  \",\"  \"],\"fHeaderPS\":\"\",\"fTitlePS\":\"\",\"fFitFormat\":\"5.4g\",\"fPaintTextFormat\":\"g\",\"fLineScalePS\":3,\"fJoinLinePS\":0,\"fCapLinePS\":0,\"fTimeOffset\":788918400,\"fImageScaling\":1}],\"opt\":[\"\",\"HIST\",\"SAMEHIST\",\"blNDC\",\"\"]},\"fExecs\":null,\"fName\":\"c1\",\"fTitle\":\"c1\",\"fNumPaletteColor\":0,\"fNextPaletteColor\":0,\"fDISPLAY\":\"$DISPLAY\",\"fDoubleBuffer\":0,\"fRetained\":true,\"fXsizeUser\":0,\"fYsizeUser\":0,\"fXsizeReal\":20,\"fYsizeReal\":14.28571,\"fWindowTopX\":0,\"fWindowTopY\":0,\"fWindowWidth\":0,\"fWindowHeight\":0,\"fCw\":696,\"fCh\":472,\"fCatt\":{\"_typename\":\"TAttCanvas\",\"fXBetween\":2,\"fYBetween\":2,\"fTitleFromTop\":1.2,\"fXdate\":0.2,\"fYdate\":0.3,\"fAdate\":1},\"kMoveOpaque\":true,\"kResizeOpaque\":true,\"fHighLightColor\":2,\"fBatch\":true,\"kShowEventStatus\":false,\"kAutoExec\":true,\"kMenuBar\":true});\n",
       "   Core.draw(\"root_plot_1646918219536\", obj, \"\");\n",
       "}\n",
       "\n",
       "function script_load_root_plot_1646918219536(src, on_error) {\n",
       "    let script = document.createElement('script');\n",
       "    script.src = src;\n",
       "    script.onload = function() { console.log(\"loading done\", script.src); display_root_plot_1646918219536(JSROOT); };\n",
       "    script.onerror = function() { script.remove(); on_error(); };\n",
       "    document.head.appendChild(script);\n",
       "}\n",
       "\n",
       "if (typeof requirejs !== 'undefined') {\n",
       "\n",
       "    // We are in jupyter notebooks, use require.js which should be configured already\n",
       "    requirejs.config({\n",
       "       paths: { 'JSRootCore' : [ 'scripts/JSRootCore', 'https://root.cern/js/5.9.1/scripts/JSRootCore.min', 'https://jsroot.gsi.de/5.9.1/scripts/JSRootCore.min' ] }\n",
       "    })(['JSRootCore'],  function(Core) {\n",
       "       display_root_plot_1646918219536(Core);\n",
       "    });\n",
       "\n",
       "} else if (typeof JSROOT !== 'undefined') {\n",
       "\n",
       "   // JSROOT already loaded, just use it\n",
       "   display_root_plot_1646918219536(JSROOT);\n",
       "\n",
       "} else {\n",
       "\n",
       "    // We are in jupyterlab without require.js, directly loading jsroot\n",
       "    // Jupyterlab might be installed in a different base_url so we need to know it.\n",
       "    try {\n",
       "        var base_url = JSON.parse(document.getElementById('jupyter-config-data').innerHTML).baseUrl;\n",
       "    } catch(_) {\n",
       "        var base_url = '/';\n",
       "    }\n",
       "\n",
       "    // Try loading a local version of requirejs and fallback to cdn if not possible.\n",
       "    script_load_root_plot_1646918219536(base_url + 'static/scripts/JSRootCore.js', function(){\n",
       "        console.error('Fail to load JSROOT locally, please check your jupyter_notebook_config.py file');\n",
       "        script_load_root_plot_1646918219536('https://root.cern/js/5.9.1/scripts/JSRootCore.min.js', function(){\n",
       "            document.getElementById(\"root_plot_1646918219536\").innerHTML = \"Failed to load JSROOT\";\n",
       "        });\n",
       "    });\n",
       "}\n",
       "\n",
       "</script>\n"
      ],
      "text/plain": [
       "<IPython.core.display.HTML object>"
      ]
     },
     "metadata": {},
     "output_type": "display_data"
    }
   ],
   "source": [
    "h_mc = hists_bnb_sim_stopping[\"hits2_dqdx_mean\"]\n",
    "h_data = hists_bnb_data_stopping[\"hits2_dqdx_mean\"]\n",
    "\n",
    "h_mc.SetLineColor(ROOT.kBlue)\n",
    "h_data.SetLineColor(ROOT.kRed)\n",
    "\n",
    "h_data.DrawNormalized()\n",
    "h_mc.DrawNormalized(\"SAME\")\n",
    "c.Draw()"
   ]
  },
  {
   "cell_type": "code",
   "execution_count": 31,
   "id": "32796442",
   "metadata": {},
   "outputs": [
    {
     "data": {
      "text/html": [
       "\n",
       "\n",
       "<div id=\"root_plot_1646921697680\"\n",
       "     style=\"width: 696px; height: 472px\">\n",
       "</div>\n",
       "<script>\n",
       "\n",
       "function display_root_plot_1646921697680(Core) {\n",
       "   let obj = Core.JSONR_unref({\"_typename\":\"TCanvas\",\"fUniqueID\":0,\"fBits\":3342344,\"fLineColor\":1,\"fLineStyle\":1,\"fLineWidth\":1,\"fFillColor\":0,\"fFillStyle\":1001,\"fLeftMargin\":0.1,\"fRightMargin\":0.1,\"fBottomMargin\":0.1,\"fTopMargin\":0.1,\"fXfile\":2,\"fYfile\":2,\"fAfile\":1,\"fXstat\":0.99,\"fYstat\":0.99,\"fAstat\":2,\"fFrameFillColor\":0,\"fFrameLineColor\":1,\"fFrameFillStyle\":1001,\"fFrameLineStyle\":1,\"fFrameLineWidth\":1,\"fFrameBorderSize\":1,\"fFrameBorderMode\":0,\"fX1\":-187.500013969839,\"fY1\":-0.00967137450021092,\"fX2\":1687.50001396984,\"fY2\":0.0870423647373099,\"fXtoAbsPixelk\":69.6000541484835,\"fXtoPixelk\":69.6000541484835,\"fXtoPixel\":0.371199994468689,\"fYtoAbsPixelk\":424.800047186661,\"fYtoPixelk\":424.800047186661,\"fYtoPixel\":-4880.38208140011,\"fUtoAbsPixelk\":5e-5,\"fUtoPixelk\":5e-5,\"fUtoPixel\":696,\"fVtoAbsPixelk\":472.00005,\"fVtoPixelk\":472,\"fVtoPixel\":-472,\"fAbsPixeltoXk\":-187.500013969839,\"fPixeltoXk\":-187.500013969839,\"fPixeltoX\":2.6939655573846,\"fAbsPixeltoYk\":0.0870423647373099,\"fPixeltoYk\":-0.00967137450021092,\"fPixeltoY\":-2.04901989910002e-4,\"fXlowNDC\":0,\"fYlowNDC\":0,\"fXUpNDC\":1,\"fYUpNDC\":1,\"fWNDC\":1,\"fHNDC\":1,\"fAbsXlowNDC\":0,\"fAbsYlowNDC\":0,\"fAbsWNDC\":1,\"fAbsHNDC\":1,\"fUxmin\":0,\"fUymin\":0,\"fUxmax\":1500,\"fUymax\":0.077370990237099,\"fTheta\":30,\"fPhi\":30,\"fAspectRatio\":0,\"fNumber\":0,\"fTickx\":0,\"fTicky\":0,\"fLogx\":0,\"fLogy\":0,\"fLogz\":0,\"fPadPaint\":0,\"fCrosshair\":0,\"fCrosshairPos\":0,\"fBorderSize\":2,\"fBorderMode\":0,\"fModified\":false,\"fGridx\":false,\"fGridy\":false,\"fAbsCoord\":false,\"fEditable\":true,\"fFixedAspectRatio\":false,\"fPrimitives\":{\"_typename\":\"TList\",\"name\":\"TList\",\"arr\":[{\"_typename\":\"TFrame\",\"fUniqueID\":0,\"fBits\":8,\"fLineColor\":1,\"fLineStyle\":1,\"fLineWidth\":1,\"fFillColor\":0,\"fFillStyle\":1001,\"fX1\":0,\"fY1\":0,\"fX2\":1500,\"fY2\":0.077370990237099,\"fBorderSize\":1,\"fBorderMode\":0},{\"_typename\":\"TH1D\",\"fUniqueID\":0,\"fBits\":9,\"fName\":\"\",\"fTitle\":\"Length\",\"fLineColor\":632,\"fLineStyle\":1,\"fLineWidth\":1,\"fFillColor\":0,\"fFillStyle\":1001,\"fMarkerColor\":1,\"fMarkerStyle\":1,\"fMarkerSize\":1,\"fNcells\":102,\"fXaxis\":{\"_typename\":\"TAxis\",\"fUniqueID\":0,\"fBits\":0,\"fName\":\"xaxis\",\"fTitle\":\"length (cm)\",\"fNdivisions\":510,\"fAxisColor\":1,\"fLabelColor\":1,\"fLabelFont\":42,\"fLabelOffset\":0.005,\"fLabelSize\":0.035,\"fTickLength\":0.03,\"fTitleOffset\":1,\"fTitleSize\":0.035,\"fTitleColor\":1,\"fTitleFont\":42,\"fNbins\":100,\"fXmin\":0,\"fXmax\":1500,\"fXbins\":[],\"fFirst\":0,\"fLast\":0,\"fBits2\":0,\"fTimeDisplay\":false,\"fTimeFormat\":\"\",\"fLabels\":null,\"fModLabs\":null},\"fYaxis\":{\"_typename\":\"TAxis\",\"fUniqueID\":0,\"fBits\":0,\"fName\":\"yaxis\",\"fTitle\":\"Tracks\",\"fNdivisions\":510,\"fAxisColor\":1,\"fLabelColor\":1,\"fLabelFont\":42,\"fLabelOffset\":0.005,\"fLabelSize\":0.035,\"fTickLength\":0.03,\"fTitleOffset\":0,\"fTitleSize\":0.035,\"fTitleColor\":1,\"fTitleFont\":42,\"fNbins\":1,\"fXmin\":0,\"fXmax\":1,\"fXbins\":[],\"fFirst\":0,\"fLast\":0,\"fBits2\":0,\"fTimeDisplay\":false,\"fTimeFormat\":\"\",\"fLabels\":null,\"fModLabs\":null},\"fZaxis\":{\"_typename\":\"TAxis\",\"fUniqueID\":0,\"fBits\":0,\"fName\":\"zaxis\",\"fTitle\":\"\",\"fNdivisions\":510,\"fAxisColor\":1,\"fLabelColor\":1,\"fLabelFont\":42,\"fLabelOffset\":0.005,\"fLabelSize\":0.035,\"fTickLength\":0.03,\"fTitleOffset\":1,\"fTitleSize\":0.035,\"fTitleColor\":1,\"fTitleFont\":42,\"fNbins\":1,\"fXmin\":0,\"fXmax\":1,\"fXbins\":[],\"fFirst\":0,\"fLast\":0,\"fBits2\":0,\"fTimeDisplay\":false,\"fTimeFormat\":\"\",\"fLabels\":null,\"fModLabs\":null},\"fBarOffset\":0,\"fBarWidth\":1000,\"fEntries\":4302,\"fTsumw\":1,\"fTsumw2\":2.32450023245002e-4,\"fTsumwx\":232.9654793777,\"fTsumwx2\":63338.442507675,\"fMaximum\":-1111,\"fMinimum\":-1111,\"fNormFactor\":0,\"fContour\":[],\"fSumw2\":[0,0,6.48396159679225e-7,1.51292437258486e-6,3.51214586492914e-6,4.16054202460836e-6,5.1871692774338e-6,6.91622570324507e-6,6.86219268993847e-6,8.42915007582993e-6,9.29367828873556e-6,1.08066026613204e-5,1.15630648476129e-5,1.15090318343063e-5,1.24816260738251e-5,1.27517911403581e-5,1.37243853798769e-5,1.71284652181929e-5,1.5075210712542e-5,1.51292437258486e-5,1.45889135927826e-5,1.23735600472119e-5,9.99610746172139e-6,6.86219268993847e-6,5.67346639719322e-6,3.35004682500933e-6,2.5395516254103e-6,2.91778271855651e-6,1.24275930605185e-6,1.40485834597166e-6,9.72594239518838e-7,8.64528212905634e-7,5.40330133066021e-7,4.32264106452817e-7,3.24198079839613e-7,1.62099039919806e-7,1.62099039919806e-7,1.62099039919806e-7,1.08066026613204e-7,1.08066026613204e-7,2.16132053226408e-7,0,1.08066026613204e-7,1.62099039919806e-7,0,0,1.08066026613204e-7,0,5.40330133066021e-8,5.40330133066021e-8,0,5.40330133066021e-8,5.40330133066021e-8,5.40330133066021e-8,0,0,0,5.40330133066021e-8,0,0,0,5.40330133066021e-8,0,0,0,0,0,0,0,0,0,0,0,0,0,0,0,0,0,0,0,0,0,0,0,0,0,0,0,0,0,0,0,0,0,0,0,0,0,0,0,0],\"fOption\":\"\",\"fFunctions\":{\"_typename\":\"TList\",\"name\":\"TList\",\"arr\":[{\"_typename\":\"TPaveStats\",\"fUniqueID\":0,\"fBits\":9,\"fLineColor\":1,\"fLineStyle\":1,\"fLineWidth\":1,\"fFillColor\":0,\"fFillStyle\":1001,\"fX1\":1275.00003799796,\"fY1\":0.0652817739853266,\"fX2\":1650.00004917383,\"fY2\":0.0807559719174546,\"fX1NDC\":0.780000016093254,\"fY1NDC\":0.775000005960464,\"fX2NDC\":0.980000019073486,\"fY2NDC\":0.935000002384186,\"fBorderSize\":1,\"fInit\":1,\"fShadowColor\":1,\"fCornerRadius\":0,\"fOption\":\"brNDC\",\"fName\":\"stats\",\"fTextAngle\":0,\"fTextSize\":0,\"fTextAlign\":12,\"fTextColor\":1,\"fTextFont\":42,\"fLabel\":\"\",\"fLongest\":18,\"fMargin\":0.05,\"fLines\":{\"_typename\":\"TList\",\"name\":\"TList\",\"arr\":[{\"_typename\":\"TLatex\",\"fUniqueID\":0,\"fBits\":0,\"fName\":\"\",\"fTitle\":\"\",\"fTextAngle\":0,\"fTextSize\":0.0368,\"fTextAlign\":0,\"fTextColor\":0,\"fTextFont\":0,\"fX\":0,\"fY\":0,\"fLineColor\":1,\"fLineStyle\":1,\"fLineWidth\":2,\"fLimitFactorSize\":3,\"fOriginSize\":0.04},{\"_typename\":\"TLatex\",\"fUniqueID\":0,\"fBits\":0,\"fName\":\"\",\"fTitle\":\"Entries = 4302   \",\"fTextAngle\":0,\"fTextSize\":0,\"fTextAlign\":0,\"fTextColor\":0,\"fTextFont\":0,\"fX\":0,\"fY\":0,\"fLineColor\":1,\"fLineStyle\":1,\"fLineWidth\":2,\"fLimitFactorSize\":3,\"fOriginSize\":0.04},{\"_typename\":\"TLatex\",\"fUniqueID\":0,\"fBits\":0,\"fName\":\"\",\"fTitle\":\"Mean  =    233\",\"fTextAngle\":0,\"fTextSize\":0,\"fTextAlign\":0,\"fTextColor\":0,\"fTextFont\":0,\"fX\":0,\"fY\":0,\"fLineColor\":1,\"fLineStyle\":1,\"fLineWidth\":2,\"fLimitFactorSize\":3,\"fOriginSize\":0.04},{\"_typename\":\"TLatex\",\"fUniqueID\":0,\"fBits\":0,\"fName\":\"\",\"fTitle\":\"Std Dev   =  95.21\",\"fTextAngle\":0,\"fTextSize\":0,\"fTextAlign\":0,\"fTextColor\":0,\"fTextFont\":0,\"fX\":0,\"fY\":0,\"fLineColor\":1,\"fLineStyle\":1,\"fLineWidth\":2,\"fLimitFactorSize\":3,\"fOriginSize\":0.04}],\"opt\":[\"\",\"\",\"\",\"\"]},\"fOptFit\":0,\"fOptStat\":1111,\"fFitFormat\":\"5.4g\",\"fStatFormat\":\"6.4g\",\"fParent\":{\"$ref\":3}}],\"opt\":[\"brNDC\"]},\"fBufferSize\":0,\"fBuffer\":[],\"fBinStatErrOpt\":0,\"fStatOverflows\":2,\"fArray\":[0,0,0.00278940027894003,0.00650860065086007,0.0151092515109252,0.0178986517898652,0.0223152022315202,0.0297536029753603,0.0295211529521153,0.0362622036262204,0.0399814039981404,0.0464900046490005,0.0497443049744305,0.0495118549511855,0.0536959553695955,0.0548582054858205,0.0590423059042306,0.0736866573686657,0.0648535564853557,0.0650860065086006,0.0627615062761506,0.0532310553231055,0.0430032543003254,0.0295211529521153,0.0244072524407252,0.0144119014411901,0.0109251510925151,0.0125523012552301,0.00534635053463505,0.00604370060437006,0.00418410041841004,0.00371920037192004,0.00232450023245002,0.00185960018596002,0.00139470013947001,6.97350069735007e-4,6.97350069735007e-4,6.97350069735007e-4,4.64900046490005e-4,4.64900046490005e-4,9.29800092980009e-4,0,4.64900046490005e-4,6.97350069735007e-4,0,0,4.64900046490005e-4,0,2.32450023245002e-4,2.32450023245002e-4,0,2.32450023245002e-4,2.32450023245002e-4,2.32450023245002e-4,0,0,0,2.32450023245002e-4,0,0,0,2.32450023245002e-4,0,0,0,0,0,0,0,0,0,0,0,0,0,0,0,0,0,0,0,0,0,0,0,0,0,0,0,0,0,0,0,0,0,0,0,0,0,0,0,0]},{\"_typename\":\"TH1D\",\"fUniqueID\":0,\"fBits\":9,\"fName\":\"\",\"fTitle\":\"Length\",\"fLineColor\":600,\"fLineStyle\":1,\"fLineWidth\":1,\"fFillColor\":0,\"fFillStyle\":1001,\"fMarkerColor\":1,\"fMarkerStyle\":1,\"fMarkerSize\":1,\"fNcells\":102,\"fXaxis\":{\"_typename\":\"TAxis\",\"fUniqueID\":0,\"fBits\":0,\"fName\":\"xaxis\",\"fTitle\":\"length (cm)\",\"fNdivisions\":510,\"fAxisColor\":1,\"fLabelColor\":1,\"fLabelFont\":42,\"fLabelOffset\":0.005,\"fLabelSize\":0.035,\"fTickLength\":0.03,\"fTitleOffset\":1,\"fTitleSize\":0.035,\"fTitleColor\":1,\"fTitleFont\":42,\"fNbins\":100,\"fXmin\":0,\"fXmax\":1500,\"fXbins\":[],\"fFirst\":0,\"fLast\":0,\"fBits2\":0,\"fTimeDisplay\":false,\"fTimeFormat\":\"\",\"fLabels\":null,\"fModLabs\":null},\"fYaxis\":{\"_typename\":\"TAxis\",\"fUniqueID\":0,\"fBits\":0,\"fName\":\"yaxis\",\"fTitle\":\"Tracks\",\"fNdivisions\":510,\"fAxisColor\":1,\"fLabelColor\":1,\"fLabelFont\":42,\"fLabelOffset\":0.005,\"fLabelSize\":0.035,\"fTickLength\":0.03,\"fTitleOffset\":0,\"fTitleSize\":0.035,\"fTitleColor\":1,\"fTitleFont\":42,\"fNbins\":1,\"fXmin\":0,\"fXmax\":1,\"fXbins\":[],\"fFirst\":0,\"fLast\":0,\"fBits2\":0,\"fTimeDisplay\":false,\"fTimeFormat\":\"\",\"fLabels\":null,\"fModLabs\":null},\"fZaxis\":{\"_typename\":\"TAxis\",\"fUniqueID\":0,\"fBits\":0,\"fName\":\"zaxis\",\"fTitle\":\"\",\"fNdivisions\":510,\"fAxisColor\":1,\"fLabelColor\":1,\"fLabelFont\":42,\"fLabelOffset\":0.005,\"fLabelSize\":0.035,\"fTickLength\":0.03,\"fTitleOffset\":1,\"fTitleSize\":0.035,\"fTitleColor\":1,\"fTitleFont\":42,\"fNbins\":1,\"fXmin\":0,\"fXmax\":1,\"fXbins\":[],\"fFirst\":0,\"fLast\":0,\"fBits2\":0,\"fTimeDisplay\":false,\"fTimeFormat\":\"\",\"fLabels\":null,\"fModLabs\":null},\"fBarOffset\":0,\"fBarWidth\":1000,\"fEntries\":3335,\"fTsumw\":1,\"fTsumw2\":2.99850074962519e-4,\"fTsumwx\":229.386361154445,\"fTsumwx2\":62068.4939366693,\"fMaximum\":-1111,\"fMinimum\":-1111,\"fNormFactor\":0,\"fContour\":[],\"fSumw2\":[0,0,1.25874094437039e-6,2.2477516863757e-6,4.04595303547626e-6,6.29370472185197e-6,7.28271546385728e-6,9.17082688041287e-6,1.06093879596933e-5,1.08791181620584e-5,1.55544416697199e-5,1.43856107928045e-5,1.30369597809791e-5,1.6003992006995e-5,1.54645316022648e-5,1.80719235584606e-5,1.82517436933707e-5,1.74425530862754e-5,1.9060934300466e-5,1.82517436933707e-5,1.63636322768151e-5,1.67232725466352e-5,1.33066899833442e-5,8.45154634077264e-6,5.7542443171218e-6,5.57442418221174e-6,3.68631276565615e-6,2.78721209110587e-6,2.33766175383073e-6,6.29370472185197e-7,9.89010742005309e-7,9.89010742005309e-7,9.89010742005309e-7,4.4955033727514e-7,8.09190607095253e-7,2.69730202365084e-7,2.69730202365084e-7,4.4955033727514e-7,8.99100674550281e-8,8.99100674550281e-7,8.99100674550281e-8,8.99100674550281e-8,0,0,8.99100674550281e-8,1.79820134910056e-7,8.99100674550281e-8,0,0,0,0,0,0,8.99100674550281e-8,0,0,0,0,0,0,0,0,0,0,0,0,0,0,0,0,0,0,0,0,0,0,8.99100674550281e-8,0,0,0,0,0,0,0,0,0,0,0,0,0,0,0,0,0,0,0,0,0,0,0,0,0],\"fOption\":\"\",\"fFunctions\":{\"_typename\":\"TList\",\"name\":\"TList\",\"arr\":[],\"opt\":[]},\"fBufferSize\":0,\"fBuffer\":[],\"fBinStatErrOpt\":0,\"fStatOverflows\":2,\"fArray\":[0,0,0.00419790104947526,0.00749625187406297,0.0134932533733133,0.0209895052473763,0.024287856071964,0.0305847076461769,0.0353823088455772,0.0362818590704648,0.0518740629685157,0.047976011994003,0.0434782608695652,0.0533733133433283,0.0515742128935532,0.0602698650674663,0.0608695652173913,0.0581709145427286,0.063568215892054,0.0608695652173913,0.0545727136431784,0.0557721139430285,0.0443778110944528,0.0281859070464768,0.0191904047976012,0.0185907046476762,0.0122938530734633,0.00929535232383808,0.00779610194902549,0.00209895052473763,0.00329835082458771,0.00329835082458771,0.00329835082458771,0.00149925037481259,0.00269865067466267,8.99550224887556e-4,8.99550224887556e-4,0.00149925037481259,2.99850074962519e-4,0.00299850074962519,2.99850074962519e-4,2.99850074962519e-4,0,0,2.99850074962519e-4,5.99700149925037e-4,2.99850074962519e-4,0,0,0,0,0,0,2.99850074962519e-4,0,0,0,0,0,0,0,0,0,0,0,0,0,0,0,0,0,0,0,0,0,0,2.99850074962519e-4,0,0,0,0,0,0,0,0,0,0,0,0,0,0,0,0,0,0,0,0,0,0,0,0,0]},{\"_typename\":\"TPaveText\",\"fUniqueID\":0,\"fBits\":9,\"fLineColor\":1,\"fLineStyle\":1,\"fLineWidth\":1,\"fFillColor\":0,\"fFillStyle\":0,\"fX1\":624.838360203912,\"fY1\":0.0806576191928813,\"fX2\":875.161639796088,\"fY2\":0.0865587965022894,\"fX1NDC\":0.433247126436782,\"fY1NDC\":0.933983055615829,\"fX2NDC\":0.566752873563218,\"fY2NDC\":0.995000004768372,\"fBorderSize\":0,\"fInit\":1,\"fShadowColor\":1,\"fCornerRadius\":0,\"fOption\":\"blNDC\",\"fName\":\"title\",\"fTextAngle\":0,\"fTextSize\":0,\"fTextAlign\":22,\"fTextColor\":1,\"fTextFont\":42,\"fLabel\":\"\",\"fLongest\":6,\"fMargin\":0.05,\"fLines\":{\"_typename\":\"TList\",\"name\":\"TList\",\"arr\":[{\"_typename\":\"TLatex\",\"fUniqueID\":0,\"fBits\":0,\"fName\":\"\",\"fTitle\":\"Length\",\"fTextAngle\":0,\"fTextSize\":0,\"fTextAlign\":0,\"fTextColor\":0,\"fTextFont\":0,\"fX\":0,\"fY\":0,\"fLineColor\":1,\"fLineStyle\":1,\"fLineWidth\":2,\"fLimitFactorSize\":3,\"fOriginSize\":0.0518644079566002}],\"opt\":[\"\"]}},{\"_typename\":\"TStyle\",\"fUniqueID\":0,\"fBits\":0,\"fName\":\"Modern\",\"fTitle\":\"Modern Style\",\"fLineColor\":1,\"fLineStyle\":1,\"fLineWidth\":1,\"fFillColor\":19,\"fFillStyle\":1001,\"fMarkerColor\":1,\"fMarkerStyle\":1,\"fMarkerSize\":1,\"fTextAngle\":0,\"fTextSize\":0.05,\"fTextAlign\":11,\"fTextColor\":1,\"fTextFont\":62,\"fXaxis\":{\"_typename\":\"TAttAxis\",\"fNdivisions\":510,\"fAxisColor\":1,\"fLabelColor\":1,\"fLabelFont\":42,\"fLabelOffset\":0.005,\"fLabelSize\":0.035,\"fTickLength\":0.03,\"fTitleOffset\":1,\"fTitleSize\":0.035,\"fTitleColor\":1,\"fTitleFont\":42},\"fYaxis\":{\"_typename\":\"TAttAxis\",\"fNdivisions\":510,\"fAxisColor\":1,\"fLabelColor\":1,\"fLabelFont\":42,\"fLabelOffset\":0.005,\"fLabelSize\":0.035,\"fTickLength\":0.03,\"fTitleOffset\":0,\"fTitleSize\":0.035,\"fTitleColor\":1,\"fTitleFont\":42},\"fZaxis\":{\"_typename\":\"TAttAxis\",\"fNdivisions\":510,\"fAxisColor\":1,\"fLabelColor\":1,\"fLabelFont\":42,\"fLabelOffset\":0.005,\"fLabelSize\":0.035,\"fTickLength\":0.03,\"fTitleOffset\":1,\"fTitleSize\":0.035,\"fTitleColor\":1,\"fTitleFont\":42},\"fBarWidth\":1,\"fBarOffset\":0,\"fColorModelPS\":0,\"fDrawBorder\":0,\"fOptLogx\":0,\"fOptLogy\":0,\"fOptLogz\":0,\"fOptDate\":0,\"fOptStat\":1111,\"fOptTitle\":1,\"fOptFile\":0,\"fOptFit\":0,\"fShowEventStatus\":0,\"fShowEditor\":0,\"fShowToolBar\":0,\"fNumberContours\":20,\"fAttDate\":{\"_typename\":\"TAttText\",\"fTextAngle\":0,\"fTextSize\":0.025,\"fTextAlign\":11,\"fTextColor\":1,\"fTextFont\":62},\"fDateX\":0.01,\"fDateY\":0.01,\"fEndErrorSize\":2,\"fErrorX\":0.5,\"fFuncColor\":2,\"fFuncStyle\":1,\"fFuncWidth\":2,\"fGridColor\":0,\"fGridStyle\":3,\"fGridWidth\":1,\"fLegendBorderSize\":1,\"fLegendFillColor\":0,\"fLegendFont\":42,\"fLegendTextSize\":0,\"fHatchesLineWidth\":1,\"fHatchesSpacing\":1,\"fFrameFillColor\":0,\"fFrameLineColor\":1,\"fFrameFillStyle\":1001,\"fFrameLineStyle\":1,\"fFrameLineWidth\":1,\"fFrameBorderSize\":1,\"fFrameBorderMode\":0,\"fHistFillColor\":0,\"fHistLineColor\":602,\"fHistFillStyle\":1001,\"fHistLineStyle\":1,\"fHistLineWidth\":1,\"fHistMinimumZero\":false,\"fHistTopMargin\":0.05,\"fCanvasPreferGL\":false,\"fCanvasColor\":0,\"fCanvasBorderSize\":2,\"fCanvasBorderMode\":0,\"fCanvasDefH\":500,\"fCanvasDefW\":700,\"fCanvasDefX\":10,\"fCanvasDefY\":10,\"fPadColor\":0,\"fPadBorderSize\":2,\"fPadBorderMode\":0,\"fPadBottomMargin\":0.1,\"fPadTopMargin\":0.1,\"fPadLeftMargin\":0.1,\"fPadRightMargin\":0.1,\"fPadGridX\":false,\"fPadGridY\":false,\"fPadTickX\":0,\"fPadTickY\":0,\"fPaperSizeX\":20,\"fPaperSizeY\":26,\"fScreenFactor\":1,\"fStatColor\":0,\"fStatTextColor\":1,\"fStatBorderSize\":1,\"fStatFont\":42,\"fStatFontSize\":0,\"fStatStyle\":1001,\"fStatFormat\":\"6.4g\",\"fStatX\":0.98,\"fStatY\":0.935,\"fStatW\":0.2,\"fStatH\":0.16,\"fStripDecimals\":true,\"fTitleAlign\":23,\"fTitleColor\":0,\"fTitleTextColor\":1,\"fTitleBorderSize\":0,\"fTitleFont\":42,\"fTitleFontSize\":0.05,\"fTitleStyle\":0,\"fTitleX\":0.5,\"fTitleY\":0.995,\"fTitleW\":0,\"fTitleH\":0,\"fLegoInnerR\":0.5,\"fLineStyle\":[\"\",\"  \",\" 12 12\",\" 4 8\",\" 12 16 4 16\",\" 20 12 4 12\",\" 20 12 4 12 4 12 4 12\",\" 20 20\",\" 20 12 4 12 4 12\",\" 80 20\",\" 80 40 4 40\",\"  \",\"  \",\"  \",\"  \",\"  \",\"  \",\"  \",\"  \",\"  \",\"  \",\"  \",\"  \",\"  \",\"  \",\"  \",\"  \",\"  \",\"  \",\"  \"],\"fHeaderPS\":\"\",\"fTitlePS\":\"\",\"fFitFormat\":\"5.4g\",\"fPaintTextFormat\":\"g\",\"fLineScalePS\":3,\"fJoinLinePS\":0,\"fCapLinePS\":0,\"fTimeOffset\":788918400,\"fImageScaling\":1}],\"opt\":[\"\",\"HIST\",\"SAMEHIST\",\"blNDC\",\"\"]},\"fExecs\":null,\"fName\":\"c1\",\"fTitle\":\"c1\",\"fNumPaletteColor\":0,\"fNextPaletteColor\":0,\"fDISPLAY\":\"$DISPLAY\",\"fDoubleBuffer\":0,\"fRetained\":true,\"fXsizeUser\":0,\"fYsizeUser\":0,\"fXsizeReal\":20,\"fYsizeReal\":14.28571,\"fWindowTopX\":0,\"fWindowTopY\":0,\"fWindowWidth\":0,\"fWindowHeight\":0,\"fCw\":696,\"fCh\":472,\"fCatt\":{\"_typename\":\"TAttCanvas\",\"fXBetween\":2,\"fYBetween\":2,\"fTitleFromTop\":1.2,\"fXdate\":0.2,\"fYdate\":0.3,\"fAdate\":1},\"kMoveOpaque\":true,\"kResizeOpaque\":true,\"fHighLightColor\":2,\"fBatch\":true,\"kShowEventStatus\":false,\"kAutoExec\":true,\"kMenuBar\":true});\n",
       "   Core.draw(\"root_plot_1646921697680\", obj, \"\");\n",
       "}\n",
       "\n",
       "function script_load_root_plot_1646921697680(src, on_error) {\n",
       "    let script = document.createElement('script');\n",
       "    script.src = src;\n",
       "    script.onload = function() { console.log(\"loading done\", script.src); display_root_plot_1646921697680(JSROOT); };\n",
       "    script.onerror = function() { script.remove(); on_error(); };\n",
       "    document.head.appendChild(script);\n",
       "}\n",
       "\n",
       "if (typeof requirejs !== 'undefined') {\n",
       "\n",
       "    // We are in jupyter notebooks, use require.js which should be configured already\n",
       "    requirejs.config({\n",
       "       paths: { 'JSRootCore' : [ 'scripts/JSRootCore', 'https://root.cern/js/5.9.1/scripts/JSRootCore.min', 'https://jsroot.gsi.de/5.9.1/scripts/JSRootCore.min' ] }\n",
       "    })(['JSRootCore'],  function(Core) {\n",
       "       display_root_plot_1646921697680(Core);\n",
       "    });\n",
       "\n",
       "} else if (typeof JSROOT !== 'undefined') {\n",
       "\n",
       "   // JSROOT already loaded, just use it\n",
       "   display_root_plot_1646921697680(JSROOT);\n",
       "\n",
       "} else {\n",
       "\n",
       "    // We are in jupyterlab without require.js, directly loading jsroot\n",
       "    // Jupyterlab might be installed in a different base_url so we need to know it.\n",
       "    try {\n",
       "        var base_url = JSON.parse(document.getElementById('jupyter-config-data').innerHTML).baseUrl;\n",
       "    } catch(_) {\n",
       "        var base_url = '/';\n",
       "    }\n",
       "\n",
       "    // Try loading a local version of requirejs and fallback to cdn if not possible.\n",
       "    script_load_root_plot_1646921697680(base_url + 'static/scripts/JSRootCore.js', function(){\n",
       "        console.error('Fail to load JSROOT locally, please check your jupyter_notebook_config.py file');\n",
       "        script_load_root_plot_1646921697680('https://root.cern/js/5.9.1/scripts/JSRootCore.min.js', function(){\n",
       "            document.getElementById(\"root_plot_1646921697680\").innerHTML = \"Failed to load JSROOT\";\n",
       "        });\n",
       "    });\n",
       "}\n",
       "\n",
       "</script>\n"
      ],
      "text/plain": [
       "<IPython.core.display.HTML object>"
      ]
     },
     "metadata": {},
     "output_type": "display_data"
    }
   ],
   "source": [
    "h_mc = hists_bnb_sim_stopping[\"length\"]\n",
    "h_data = hists_bnb_data_stopping[\"length\"]\n",
    "\n",
    "h_mc.SetLineColor(ROOT.kBlue)\n",
    "h_data.SetLineColor(ROOT.kRed)\n",
    "\n",
    "h_data.DrawNormalized()\n",
    "h_mc.DrawNormalized(\"SAME\")\n",
    "c.Draw()"
   ]
  },
  {
   "cell_type": "code",
   "execution_count": 40,
   "id": "c60911a8",
   "metadata": {},
   "outputs": [
    {
     "name": "stdout",
     "output_type": "stream",
     "text": [
      "start_x: Chi2Test=5.2263975736268366e-138\n",
      "start_y: Chi2Test=0.0\n",
      "start_z: Chi2Test=0.24867733882135964\n",
      "end_x: Chi2Test=2.552081612407592e-14\n",
      "end_y: Chi2Test=0.00021383343323406377\n",
      "end_z: Chi2Test=0.41294793178485373\n",
      "length: Chi2Test=0.07310588749362035\n",
      "t0: Chi2Test=5.02087026260076e-19\n",
      "angle_azimuth: Chi2Test=8.732907851667684e-51\n",
      "angle_zenith: Chi2Test=0.4950297403972618\n",
      "hits0_dqdx_mean: Chi2Test=2.5585030778894925e-76\n",
      "hits1_dqdx_mean: Chi2Test=0.0\n",
      "hits2_dqdx_mean: Chi2Test=3.43981720282712e-67\n",
      "hits0_integral_mean: Chi2Test=5.114466277524704e-90\n",
      "hits1_integral_mean: Chi2Test=1.4221167120111905e-278\n",
      "hits2_integral_mean: Chi2Test=1.773855630767473e-05\n",
      "hits0_width_mean: Chi2Test=4.813538217319947e-184\n",
      "hits1_width_mean: Chi2Test=1.2817877102823032e-08\n",
      "hits2_width_mean: Chi2Test=1.8354912034355545e-62\n"
     ]
    }
   ],
   "source": [
    "compare_histos(hist_registry.keys(),hists_bnb_data_stopping,hists_bnb_sim_stopping)"
   ]
  },
  {
   "cell_type": "code",
   "execution_count": 33,
   "id": "d35322c5",
   "metadata": {},
   "outputs": [
    {
     "data": {
      "text/plain": [
       "0.07310588749362035"
      ]
     },
     "execution_count": 33,
     "metadata": {},
     "output_type": "execute_result"
    }
   ],
   "source": [
    "h_data.Chi2Test(h_mc.GetPtr(),\"NORM\")"
   ]
  },
  {
   "cell_type": "code",
   "execution_count": 48,
   "id": "5f60d4c9",
   "metadata": {},
   "outputs": [
    {
     "data": {
      "text/html": [
       "\n",
       "\n",
       "<div id=\"root_plot_1646922421778\"\n",
       "     style=\"width: 696px; height: 472px\">\n",
       "</div>\n",
       "<script>\n",
       "\n",
       "function display_root_plot_1646922421778(Core) {\n",
       "   let obj = Core.JSONR_unref({\"_typename\":\"TCanvas\",\"fUniqueID\":0,\"fBits\":3342344,\"fLineColor\":1,\"fLineStyle\":1,\"fLineWidth\":1,\"fFillColor\":0,\"fFillStyle\":1001,\"fLeftMargin\":0.1,\"fRightMargin\":0.1,\"fBottomMargin\":0.1,\"fTopMargin\":0.1,\"fXfile\":2,\"fYfile\":2,\"fAfile\":1,\"fXstat\":0.99,\"fYstat\":0.99,\"fAstat\":2,\"fFrameFillColor\":0,\"fFrameLineColor\":1,\"fFrameFillStyle\":1001,\"fFrameLineStyle\":1,\"fFrameLineWidth\":1,\"fFrameBorderSize\":1,\"fFrameBorderMode\":0,\"fX1\":-1.25000009313226,\"fY1\":-0.0175122049309813,\"fX2\":11.2500000931323,\"fY2\":0.157609833940744,\"fXtoAbsPixelk\":69.6000541484835,\"fXtoPixelk\":69.6000541484835,\"fXtoPixel\":55.6799991703033,\"fYtoAbsPixelk\":424.800047186661,\"fYtoPixelk\":424.800047186661,\"fYtoPixel\":-2695.26327491958,\"fUtoAbsPixelk\":5e-5,\"fUtoPixelk\":5e-5,\"fUtoPixel\":696,\"fVtoAbsPixelk\":472.00005,\"fVtoPixelk\":472,\"fVtoPixel\":-472,\"fAbsPixeltoXk\":-1.25000009313226,\"fPixeltoXk\":-1.25000009313226,\"fPixeltoX\":0.017959770382564,\"fAbsPixeltoYk\":0.157609833940744,\"fPixeltoYk\":-0.0175122049309813,\"fPixeltoY\":-3.71021268796029e-4,\"fXlowNDC\":0,\"fYlowNDC\":0,\"fXUpNDC\":1,\"fYUpNDC\":1,\"fWNDC\":1,\"fHNDC\":1,\"fAbsXlowNDC\":0,\"fAbsYlowNDC\":0,\"fAbsWNDC\":1,\"fAbsHNDC\":1,\"fUxmin\":0,\"fUymin\":0,\"fUxmax\":10,\"fUymax\":0.140097629009763,\"fTheta\":30,\"fPhi\":30,\"fAspectRatio\":0,\"fNumber\":0,\"fTickx\":0,\"fTicky\":0,\"fLogx\":0,\"fLogy\":0,\"fLogz\":0,\"fPadPaint\":0,\"fCrosshair\":0,\"fCrosshairPos\":0,\"fBorderSize\":2,\"fBorderMode\":0,\"fModified\":false,\"fGridx\":false,\"fGridy\":false,\"fAbsCoord\":false,\"fEditable\":true,\"fFixedAspectRatio\":false,\"fPrimitives\":{\"_typename\":\"TList\",\"name\":\"TList\",\"arr\":[{\"_typename\":\"TFrame\",\"fUniqueID\":0,\"fBits\":8,\"fLineColor\":1,\"fLineStyle\":1,\"fLineWidth\":1,\"fFillColor\":0,\"fFillStyle\":1001,\"fX1\":0,\"fY1\":0,\"fX2\":10,\"fY2\":0.140097629009763,\"fBorderSize\":1,\"fBorderMode\":0},{\"_typename\":\"TH1D\",\"fUniqueID\":0,\"fBits\":9,\"fName\":\"\",\"fTitle\":\"Mean Hit Width (Plane 2)\",\"fLineColor\":632,\"fLineStyle\":1,\"fLineWidth\":1,\"fFillColor\":0,\"fFillStyle\":1001,\"fMarkerColor\":1,\"fMarkerStyle\":1,\"fMarkerSize\":1,\"fNcells\":102,\"fXaxis\":{\"_typename\":\"TAxis\",\"fUniqueID\":0,\"fBits\":0,\"fName\":\"xaxis\",\"fTitle\":\"width (ticks)\",\"fNdivisions\":510,\"fAxisColor\":1,\"fLabelColor\":1,\"fLabelFont\":42,\"fLabelOffset\":0.005,\"fLabelSize\":0.035,\"fTickLength\":0.03,\"fTitleOffset\":1,\"fTitleSize\":0.035,\"fTitleColor\":1,\"fTitleFont\":42,\"fNbins\":100,\"fXmin\":0,\"fXmax\":10,\"fXbins\":[],\"fFirst\":0,\"fLast\":0,\"fBits2\":0,\"fTimeDisplay\":false,\"fTimeFormat\":\"\",\"fLabels\":null,\"fModLabs\":null},\"fYaxis\":{\"_typename\":\"TAxis\",\"fUniqueID\":0,\"fBits\":0,\"fName\":\"yaxis\",\"fTitle\":\"Tracks\",\"fNdivisions\":510,\"fAxisColor\":1,\"fLabelColor\":1,\"fLabelFont\":42,\"fLabelOffset\":0.005,\"fLabelSize\":0.035,\"fTickLength\":0.03,\"fTitleOffset\":0,\"fTitleSize\":0.035,\"fTitleColor\":1,\"fTitleFont\":42,\"fNbins\":1,\"fXmin\":0,\"fXmax\":1,\"fXbins\":[],\"fFirst\":0,\"fLast\":0,\"fBits2\":0,\"fTimeDisplay\":false,\"fTimeFormat\":\"\",\"fLabels\":null,\"fModLabs\":null},\"fZaxis\":{\"_typename\":\"TAxis\",\"fUniqueID\":0,\"fBits\":0,\"fName\":\"zaxis\",\"fTitle\":\"\",\"fNdivisions\":510,\"fAxisColor\":1,\"fLabelColor\":1,\"fLabelFont\":42,\"fLabelOffset\":0.005,\"fLabelSize\":0.035,\"fTickLength\":0.03,\"fTitleOffset\":1,\"fTitleSize\":0.035,\"fTitleColor\":1,\"fTitleFont\":42,\"fNbins\":1,\"fXmin\":0,\"fXmax\":1,\"fXbins\":[],\"fFirst\":0,\"fLast\":0,\"fBits2\":0,\"fTimeDisplay\":false,\"fTimeFormat\":\"\",\"fLabels\":null,\"fModLabs\":null},\"fBarOffset\":0,\"fBarWidth\":1000,\"fEntries\":4302,\"fTsumw\":1,\"fTsumw2\":2.32450023245002e-4,\"fTsumwx\":4.48815150009675,\"fTsumwx2\":20.4261711032616,\"fMaximum\":-1111,\"fMinimum\":-1111,\"fNormFactor\":0,\"fContour\":[],\"fSumw2\":[0,0,0,0,0,0,0,0,0,0,0,0,0,0,0,0,0,0,0,0,0,0,0,0,0,0,0,0,0,5.40330133066021e-8,0,0,5.40330133066021e-8,0,5.40330133066021e-8,1.62099039919806e-7,3.78231093146215e-7,1.51292437258486e-6,2.97181573186312e-6,6.26782954356585e-6,1.17791969008393e-5,2.44769550278908e-5,3.10149496379896e-5,2.78810348662067e-5,2.28019316153861e-5,1.79929934310985e-5,1.50211776992354e-5,1.10767677278534e-5,1.02662725282544e-5,8.69931514236294e-6,6.37589557017905e-6,4.80893818428759e-6,4.05247599799516e-6,4.26860805122157e-6,3.35004682500933e-6,2.6476176520235e-6,2.6476176520235e-6,2.75568367863671e-6,1.78308943911787e-6,1.24275930605185e-6,1.45889135927826e-6,7.02429172985828e-7,8.64528212905634e-7,8.10495199599032e-7,4.32264106452817e-7,5.94363146372623e-7,2.70165066533011e-7,2.70165066533011e-7,1.62099039919806e-7,5.40330133066021e-8,2.16132053226408e-7,1.08066026613204e-7,0,5.40330133066021e-8,0,5.40330133066021e-8,0,0,0,0,0,0,0,0,0,0,0,0,0,0,0,0,0,0,0,0,0,0,0,0,0,0],\"fOption\":\"\",\"fFunctions\":{\"_typename\":\"TList\",\"name\":\"TList\",\"arr\":[{\"_typename\":\"TPaveStats\",\"fUniqueID\":0,\"fBits\":9,\"fLineColor\":1,\"fLineStyle\":1,\"fLineWidth\":1,\"fFillColor\":0,\"fFillStyle\":1001,\"fX1\":8.50000025331975,\"fY1\":0.118207376238415,\"fX2\":11.0000003278256,\"fY2\":0.146226901831605,\"fX1NDC\":0.780000016093254,\"fY1NDC\":0.775000005960464,\"fX2NDC\":0.980000019073486,\"fY2NDC\":0.935000002384186,\"fBorderSize\":1,\"fInit\":1,\"fShadowColor\":1,\"fCornerRadius\":0,\"fOption\":\"brNDC\",\"fName\":\"stats\",\"fTextAngle\":0,\"fTextSize\":0,\"fTextAlign\":12,\"fTextColor\":1,\"fTextFont\":42,\"fLabel\":\"\",\"fLongest\":18,\"fMargin\":0.05,\"fLines\":{\"_typename\":\"TList\",\"name\":\"TList\",\"arr\":[{\"_typename\":\"TLatex\",\"fUniqueID\":0,\"fBits\":0,\"fName\":\"\",\"fTitle\":\"\",\"fTextAngle\":0,\"fTextSize\":0.0368,\"fTextAlign\":0,\"fTextColor\":0,\"fTextFont\":0,\"fX\":0,\"fY\":0,\"fLineColor\":1,\"fLineStyle\":1,\"fLineWidth\":2,\"fLimitFactorSize\":3,\"fOriginSize\":0.04},{\"_typename\":\"TLatex\",\"fUniqueID\":0,\"fBits\":0,\"fName\":\"\",\"fTitle\":\"Entries = 4302   \",\"fTextAngle\":0,\"fTextSize\":0,\"fTextAlign\":0,\"fTextColor\":0,\"fTextFont\":0,\"fX\":0,\"fY\":0,\"fLineColor\":1,\"fLineStyle\":1,\"fLineWidth\":2,\"fLimitFactorSize\":3,\"fOriginSize\":0.04},{\"_typename\":\"TLatex\",\"fUniqueID\":0,\"fBits\":0,\"fName\":\"\",\"fTitle\":\"Mean  =  4.488\",\"fTextAngle\":0,\"fTextSize\":0,\"fTextAlign\":0,\"fTextColor\":0,\"fTextFont\":0,\"fX\":0,\"fY\":0,\"fLineColor\":1,\"fLineStyle\":1,\"fLineWidth\":2,\"fLimitFactorSize\":3,\"fOriginSize\":0.04},{\"_typename\":\"TLatex\",\"fUniqueID\":0,\"fBits\":0,\"fName\":\"\",\"fTitle\":\"Std Dev   = 0.5317\",\"fTextAngle\":0,\"fTextSize\":0,\"fTextAlign\":0,\"fTextColor\":0,\"fTextFont\":0,\"fX\":0,\"fY\":0,\"fLineColor\":1,\"fLineStyle\":1,\"fLineWidth\":2,\"fLimitFactorSize\":3,\"fOriginSize\":0.04}],\"opt\":[\"\",\"\",\"\",\"\"]},\"fOptFit\":0,\"fOptStat\":1111,\"fFitFormat\":\"5.4g\",\"fStatFormat\":\"6.4g\",\"fParent\":{\"$ref\":3}}],\"opt\":[\"brNDC\"]},\"fBufferSize\":0,\"fBuffer\":[],\"fBinStatErrOpt\":0,\"fStatOverflows\":2,\"fArray\":[0,0,0,0,0,0,0,0,0,0,0,0,0,0,0,0,0,0,0,0,0,0,0,0,0,0,0,0,0,2.32450023245002e-4,0,0,2.32450023245002e-4,0,2.32450023245002e-4,6.97350069735007e-4,0.00162715016271502,0.00650860065086007,0.0127847512784751,0.0269642026964203,0.0506741050674105,0.105299860529986,0.133426313342631,0.119944211994421,0.098093909809391,0.0774058577405858,0.0646211064621106,0.0476522547652255,0.0441655044165504,0.0374244537424454,0.0274291027429103,0.0206880520688052,0.0174337517433752,0.0183635518363552,0.0144119014411901,0.0113900511390051,0.0113900511390051,0.0118549511854951,0.00767085076708508,0.00534635053463505,0.00627615062761506,0.00302185030218503,0.00371920037192004,0.00348675034867503,0.00185960018596002,0.00255695025569503,0.00116225011622501,0.00116225011622501,6.97350069735007e-4,2.32450023245002e-4,9.29800092980009e-4,4.64900046490005e-4,0,2.32450023245002e-4,0,2.32450023245002e-4,0,0,0,0,0,0,0,0,0,0,0,0,0,0,0,0,0,0,0,0,0,0,0,0,0,0]},{\"_typename\":\"TH1D\",\"fUniqueID\":0,\"fBits\":9,\"fName\":\"\",\"fTitle\":\"Mean Hit Width (Plane 2)\",\"fLineColor\":600,\"fLineStyle\":1,\"fLineWidth\":1,\"fFillColor\":0,\"fFillStyle\":1001,\"fMarkerColor\":1,\"fMarkerStyle\":1,\"fMarkerSize\":1,\"fNcells\":102,\"fXaxis\":{\"_typename\":\"TAxis\",\"fUniqueID\":0,\"fBits\":0,\"fName\":\"xaxis\",\"fTitle\":\"width (ticks)\",\"fNdivisions\":510,\"fAxisColor\":1,\"fLabelColor\":1,\"fLabelFont\":42,\"fLabelOffset\":0.005,\"fLabelSize\":0.035,\"fTickLength\":0.03,\"fTitleOffset\":1,\"fTitleSize\":0.035,\"fTitleColor\":1,\"fTitleFont\":42,\"fNbins\":100,\"fXmin\":0,\"fXmax\":10,\"fXbins\":[],\"fFirst\":0,\"fLast\":0,\"fBits2\":0,\"fTimeDisplay\":false,\"fTimeFormat\":\"\",\"fLabels\":null,\"fModLabs\":null},\"fYaxis\":{\"_typename\":\"TAxis\",\"fUniqueID\":0,\"fBits\":0,\"fName\":\"yaxis\",\"fTitle\":\"Tracks\",\"fNdivisions\":510,\"fAxisColor\":1,\"fLabelColor\":1,\"fLabelFont\":42,\"fLabelOffset\":0.005,\"fLabelSize\":0.035,\"fTickLength\":0.03,\"fTitleOffset\":0,\"fTitleSize\":0.035,\"fTitleColor\":1,\"fTitleFont\":42,\"fNbins\":1,\"fXmin\":0,\"fXmax\":1,\"fXbins\":[],\"fFirst\":0,\"fLast\":0,\"fBits2\":0,\"fTimeDisplay\":false,\"fTimeFormat\":\"\",\"fLabels\":null,\"fModLabs\":null},\"fZaxis\":{\"_typename\":\"TAxis\",\"fUniqueID\":0,\"fBits\":0,\"fName\":\"zaxis\",\"fTitle\":\"\",\"fNdivisions\":510,\"fAxisColor\":1,\"fLabelColor\":1,\"fLabelFont\":42,\"fLabelOffset\":0.005,\"fLabelSize\":0.035,\"fTickLength\":0.03,\"fTitleOffset\":1,\"fTitleSize\":0.035,\"fTitleColor\":1,\"fTitleFont\":42,\"fNbins\":1,\"fXmin\":0,\"fXmax\":1,\"fXbins\":[],\"fFirst\":0,\"fLast\":0,\"fBits2\":0,\"fTimeDisplay\":false,\"fTimeFormat\":\"\",\"fLabels\":null,\"fModLabs\":null},\"fBarOffset\":0,\"fBarWidth\":1000,\"fEntries\":3335,\"fTsumw\":1,\"fTsumw2\":2.99850074962519e-4,\"fTsumwx\":4.61964445726132,\"fTsumwx2\":21.7466170029741,\"fMaximum\":-1111,\"fMinimum\":-1111,\"fNormFactor\":0,\"fContour\":[],\"fSumw2\":[0,0,0,0,0,0,0,0,0,0,0,0,0,0,0,0,0,0,0,0,0,0,0,0,0,0,0,0,0,0,0,0,0,3.59640269820112e-7,7.19280539640225e-7,1.70829128164553e-6,2.60739195619581e-6,5.57442418221174e-6,8.0019960034975e-6,9.53046715023298e-6,1.55544416697199e-5,1.87912040981009e-5,2.01398551099263e-5,2.14885061217517e-5,2.04994953797464e-5,2.18481463915718e-5,1.95104846377411e-5,1.79820134910056e-5,1.64535423442701e-5,1.43856107928045e-5,1.19580389715187e-5,1.07892080946034e-5,1.11488483644235e-5,8.45154634077264e-6,6.83316512658214e-6,6.92307519403716e-6,3.68631276565615e-6,3.86613290056621e-6,4.22577317038632e-6,3.5064926307461e-6,3.14685236092598e-6,2.96703222601593e-6,1.43856107928045e-6,1.52847114673548e-6,9.89010742005309e-7,5.39460404730169e-7,6.29370472185197e-7,5.39460404730169e-7,4.4955033727514e-7,8.99100674550281e-8,3.59640269820112e-7,8.99100674550281e-8,8.99100674550281e-8,0,8.99100674550281e-8,8.99100674550281e-8,8.99100674550281e-8,8.99100674550281e-8,0,0,0,0,0,0,8.99100674550281e-8,0,0,0,0,0,0,0,0,0,0,0,0,0,0,0,0,0],\"fOption\":\"\",\"fFunctions\":{\"_typename\":\"TList\",\"name\":\"TList\",\"arr\":[],\"opt\":[]},\"fBufferSize\":0,\"fBuffer\":[],\"fBinStatErrOpt\":0,\"fStatOverflows\":2,\"fArray\":[0,0,0,0,0,0,0,0,0,0,0,0,0,0,0,0,0,0,0,0,0,0,0,0,0,0,0,0,0,0,0,0,0,0.00119940029985007,0.00239880059970015,0.00569715142428786,0.00869565217391304,0.0185907046476762,0.0266866566716642,0.031784107946027,0.0518740629685157,0.0626686656671664,0.0671664167916042,0.071664167916042,0.0683658170914543,0.072863568215892,0.0650674662668666,0.0599700149925037,0.0548725637181409,0.047976011994003,0.039880059970015,0.0359820089955022,0.0371814092953523,0.0281859070464768,0.0227886056971514,0.0230884557721139,0.0122938530734633,0.0128935532233883,0.0140929535232384,0.0116941529235382,0.0104947526236882,0.00989505247376312,0.0047976011994003,0.00509745127436282,0.00329835082458771,0.00179910044977511,0.00209895052473763,0.00179910044977511,0.00149925037481259,2.99850074962519e-4,0.00119940029985007,2.99850074962519e-4,2.99850074962519e-4,0,2.99850074962519e-4,2.99850074962519e-4,2.99850074962519e-4,2.99850074962519e-4,0,0,0,0,0,0,2.99850074962519e-4,0,0,0,0,0,0,0,0,0,0,0,0,0,0,0,0,0]},{\"_typename\":\"TPaveText\",\"fUniqueID\":0,\"fBits\":9,\"fLineColor\":1,\"fLineStyle\":1,\"fLineWidth\":1,\"fFillColor\":0,\"fFillStyle\":0,\"fX1\":2.36961202976968,\"fY1\":0.146494037562662,\"fX2\":7.63038797023032,\"fY2\":0.156734224581433,\"fX1NDC\":0.289568965517241,\"fY1NDC\":0.936525428497185,\"fX2NDC\":0.710431034482759,\"fY2NDC\":0.995000004768372,\"fBorderSize\":0,\"fInit\":1,\"fShadowColor\":1,\"fCornerRadius\":0,\"fOption\":\"blNDC\",\"fName\":\"title\",\"fTextAngle\":0,\"fTextSize\":0,\"fTextAlign\":22,\"fTextColor\":1,\"fTextFont\":42,\"fLabel\":\"\",\"fLongest\":24,\"fMargin\":0.05,\"fLines\":{\"_typename\":\"TList\",\"name\":\"TList\",\"arr\":[{\"_typename\":\"TLatex\",\"fUniqueID\":0,\"fBits\":0,\"fName\":\"\",\"fTitle\":\"Mean Hit Width (Plane 2)\",\"fTextAngle\":0,\"fTextSize\":0,\"fTextAlign\":0,\"fTextColor\":0,\"fTextFont\":0,\"fX\":0,\"fY\":0,\"fLineColor\":1,\"fLineStyle\":1,\"fLineWidth\":2,\"fLimitFactorSize\":3,\"fOriginSize\":0.0497033894062042}],\"opt\":[\"\"]}},{\"_typename\":\"TStyle\",\"fUniqueID\":0,\"fBits\":0,\"fName\":\"Modern\",\"fTitle\":\"Modern Style\",\"fLineColor\":1,\"fLineStyle\":1,\"fLineWidth\":1,\"fFillColor\":19,\"fFillStyle\":1001,\"fMarkerColor\":1,\"fMarkerStyle\":1,\"fMarkerSize\":1,\"fTextAngle\":0,\"fTextSize\":0.05,\"fTextAlign\":11,\"fTextColor\":1,\"fTextFont\":62,\"fXaxis\":{\"_typename\":\"TAttAxis\",\"fNdivisions\":510,\"fAxisColor\":1,\"fLabelColor\":1,\"fLabelFont\":42,\"fLabelOffset\":0.005,\"fLabelSize\":0.035,\"fTickLength\":0.03,\"fTitleOffset\":1,\"fTitleSize\":0.035,\"fTitleColor\":1,\"fTitleFont\":42},\"fYaxis\":{\"_typename\":\"TAttAxis\",\"fNdivisions\":510,\"fAxisColor\":1,\"fLabelColor\":1,\"fLabelFont\":42,\"fLabelOffset\":0.005,\"fLabelSize\":0.035,\"fTickLength\":0.03,\"fTitleOffset\":0,\"fTitleSize\":0.035,\"fTitleColor\":1,\"fTitleFont\":42},\"fZaxis\":{\"_typename\":\"TAttAxis\",\"fNdivisions\":510,\"fAxisColor\":1,\"fLabelColor\":1,\"fLabelFont\":42,\"fLabelOffset\":0.005,\"fLabelSize\":0.035,\"fTickLength\":0.03,\"fTitleOffset\":1,\"fTitleSize\":0.035,\"fTitleColor\":1,\"fTitleFont\":42},\"fBarWidth\":1,\"fBarOffset\":0,\"fColorModelPS\":0,\"fDrawBorder\":0,\"fOptLogx\":0,\"fOptLogy\":0,\"fOptLogz\":0,\"fOptDate\":0,\"fOptStat\":1111,\"fOptTitle\":1,\"fOptFile\":0,\"fOptFit\":0,\"fShowEventStatus\":0,\"fShowEditor\":0,\"fShowToolBar\":0,\"fNumberContours\":20,\"fAttDate\":{\"_typename\":\"TAttText\",\"fTextAngle\":0,\"fTextSize\":0.025,\"fTextAlign\":11,\"fTextColor\":1,\"fTextFont\":62},\"fDateX\":0.01,\"fDateY\":0.01,\"fEndErrorSize\":2,\"fErrorX\":0.5,\"fFuncColor\":2,\"fFuncStyle\":1,\"fFuncWidth\":2,\"fGridColor\":0,\"fGridStyle\":3,\"fGridWidth\":1,\"fLegendBorderSize\":1,\"fLegendFillColor\":0,\"fLegendFont\":42,\"fLegendTextSize\":0,\"fHatchesLineWidth\":1,\"fHatchesSpacing\":1,\"fFrameFillColor\":0,\"fFrameLineColor\":1,\"fFrameFillStyle\":1001,\"fFrameLineStyle\":1,\"fFrameLineWidth\":1,\"fFrameBorderSize\":1,\"fFrameBorderMode\":0,\"fHistFillColor\":0,\"fHistLineColor\":602,\"fHistFillStyle\":1001,\"fHistLineStyle\":1,\"fHistLineWidth\":1,\"fHistMinimumZero\":false,\"fHistTopMargin\":0.05,\"fCanvasPreferGL\":false,\"fCanvasColor\":0,\"fCanvasBorderSize\":2,\"fCanvasBorderMode\":0,\"fCanvasDefH\":500,\"fCanvasDefW\":700,\"fCanvasDefX\":10,\"fCanvasDefY\":10,\"fPadColor\":0,\"fPadBorderSize\":2,\"fPadBorderMode\":0,\"fPadBottomMargin\":0.1,\"fPadTopMargin\":0.1,\"fPadLeftMargin\":0.1,\"fPadRightMargin\":0.1,\"fPadGridX\":false,\"fPadGridY\":false,\"fPadTickX\":0,\"fPadTickY\":0,\"fPaperSizeX\":20,\"fPaperSizeY\":26,\"fScreenFactor\":1,\"fStatColor\":0,\"fStatTextColor\":1,\"fStatBorderSize\":1,\"fStatFont\":42,\"fStatFontSize\":0,\"fStatStyle\":1001,\"fStatFormat\":\"6.4g\",\"fStatX\":0.98,\"fStatY\":0.935,\"fStatW\":0.2,\"fStatH\":0.16,\"fStripDecimals\":true,\"fTitleAlign\":23,\"fTitleColor\":0,\"fTitleTextColor\":1,\"fTitleBorderSize\":0,\"fTitleFont\":42,\"fTitleFontSize\":0.05,\"fTitleStyle\":0,\"fTitleX\":0.5,\"fTitleY\":0.995,\"fTitleW\":0,\"fTitleH\":0,\"fLegoInnerR\":0.5,\"fLineStyle\":[\"\",\"  \",\" 12 12\",\" 4 8\",\" 12 16 4 16\",\" 20 12 4 12\",\" 20 12 4 12 4 12 4 12\",\" 20 20\",\" 20 12 4 12 4 12\",\" 80 20\",\" 80 40 4 40\",\"  \",\"  \",\"  \",\"  \",\"  \",\"  \",\"  \",\"  \",\"  \",\"  \",\"  \",\"  \",\"  \",\"  \",\"  \",\"  \",\"  \",\"  \",\"  \"],\"fHeaderPS\":\"\",\"fTitlePS\":\"\",\"fFitFormat\":\"5.4g\",\"fPaintTextFormat\":\"g\",\"fLineScalePS\":3,\"fJoinLinePS\":0,\"fCapLinePS\":0,\"fTimeOffset\":788918400,\"fImageScaling\":1}],\"opt\":[\"\",\"HIST\",\"SAMEHIST\",\"blNDC\",\"\"]},\"fExecs\":null,\"fName\":\"c1\",\"fTitle\":\"c1\",\"fNumPaletteColor\":0,\"fNextPaletteColor\":0,\"fDISPLAY\":\"$DISPLAY\",\"fDoubleBuffer\":0,\"fRetained\":true,\"fXsizeUser\":0,\"fYsizeUser\":0,\"fXsizeReal\":20,\"fYsizeReal\":14.28571,\"fWindowTopX\":0,\"fWindowTopY\":0,\"fWindowWidth\":0,\"fWindowHeight\":0,\"fCw\":696,\"fCh\":472,\"fCatt\":{\"_typename\":\"TAttCanvas\",\"fXBetween\":2,\"fYBetween\":2,\"fTitleFromTop\":1.2,\"fXdate\":0.2,\"fYdate\":0.3,\"fAdate\":1},\"kMoveOpaque\":true,\"kResizeOpaque\":true,\"fHighLightColor\":2,\"fBatch\":true,\"kShowEventStatus\":false,\"kAutoExec\":true,\"kMenuBar\":true});\n",
       "   Core.draw(\"root_plot_1646922421778\", obj, \"\");\n",
       "}\n",
       "\n",
       "function script_load_root_plot_1646922421778(src, on_error) {\n",
       "    let script = document.createElement('script');\n",
       "    script.src = src;\n",
       "    script.onload = function() { console.log(\"loading done\", script.src); display_root_plot_1646922421778(JSROOT); };\n",
       "    script.onerror = function() { script.remove(); on_error(); };\n",
       "    document.head.appendChild(script);\n",
       "}\n",
       "\n",
       "if (typeof requirejs !== 'undefined') {\n",
       "\n",
       "    // We are in jupyter notebooks, use require.js which should be configured already\n",
       "    requirejs.config({\n",
       "       paths: { 'JSRootCore' : [ 'scripts/JSRootCore', 'https://root.cern/js/5.9.1/scripts/JSRootCore.min', 'https://jsroot.gsi.de/5.9.1/scripts/JSRootCore.min' ] }\n",
       "    })(['JSRootCore'],  function(Core) {\n",
       "       display_root_plot_1646922421778(Core);\n",
       "    });\n",
       "\n",
       "} else if (typeof JSROOT !== 'undefined') {\n",
       "\n",
       "   // JSROOT already loaded, just use it\n",
       "   display_root_plot_1646922421778(JSROOT);\n",
       "\n",
       "} else {\n",
       "\n",
       "    // We are in jupyterlab without require.js, directly loading jsroot\n",
       "    // Jupyterlab might be installed in a different base_url so we need to know it.\n",
       "    try {\n",
       "        var base_url = JSON.parse(document.getElementById('jupyter-config-data').innerHTML).baseUrl;\n",
       "    } catch(_) {\n",
       "        var base_url = '/';\n",
       "    }\n",
       "\n",
       "    // Try loading a local version of requirejs and fallback to cdn if not possible.\n",
       "    script_load_root_plot_1646922421778(base_url + 'static/scripts/JSRootCore.js', function(){\n",
       "        console.error('Fail to load JSROOT locally, please check your jupyter_notebook_config.py file');\n",
       "        script_load_root_plot_1646922421778('https://root.cern/js/5.9.1/scripts/JSRootCore.min.js', function(){\n",
       "            document.getElementById(\"root_plot_1646922421778\").innerHTML = \"Failed to load JSROOT\";\n",
       "        });\n",
       "    });\n",
       "}\n",
       "\n",
       "</script>\n"
      ],
      "text/plain": [
       "<IPython.core.display.HTML object>"
      ]
     },
     "metadata": {},
     "output_type": "display_data"
    }
   ],
   "source": [
    "draw_histos(\"hits2_width_mean\",hists_bnb_data_stopping,hists_bnb_sim_stopping)"
   ]
  },
  {
   "cell_type": "code",
   "execution_count": 49,
   "id": "065529e3",
   "metadata": {},
   "outputs": [
    {
     "ename": "TypeError",
     "evalue": "Template method resolution failed:\n  none of the 2 overloaded methods succeeded. Full details:\n  ROOT::RDF::RResultPtr<TProfile> ROOT::RDF::RInterface<ROOT::Detail::RDF::RJittedFilter,void>::Profile1D(const ROOT::RDF::TProfile1DModel& model, basic_string_view<char,char_traits<char> > v1Name, basic_string_view<char,char_traits<char> > v2Name, basic_string_view<char,char_traits<char> > wName) =>\n    TypeError: takes at least 4 arguments (2 given)\n  ROOT::RDF::RResultPtr<TProfile> ROOT::RDF::RInterface<ROOT::Detail::RDF::RJittedFilter,void>::Profile1D(const ROOT::RDF::TProfile1DModel& model, basic_string_view<char,char_traits<char> > v1Name = \"\", basic_string_view<char,char_traits<char> > v2Name = \"\") =>\n    TypeError: could not convert argument 1\n  Failed to instantiate \"Profile1D(std::string,std::string)\"",
     "output_type": "error",
     "traceback": [
      "\u001b[0;31m---------------------------------------------------------------------------\u001b[0m",
      "\u001b[0;31mTypeError\u001b[0m                                 Traceback (most recent call last)",
      "Input \u001b[0;32mIn [49]\u001b[0m, in \u001b[0;36m<cell line: 1>\u001b[0;34m()\u001b[0m\n\u001b[0;32m----> 1\u001b[0m \u001b[43mdf_data_stopping_planes\u001b[49m\u001b[43m[\u001b[49m\u001b[38;5;241;43m2\u001b[39;49m\u001b[43m]\u001b[49m\u001b[38;5;241;43m.\u001b[39;49m\u001b[43mProfile1D\u001b[49m\u001b[43m(\u001b[49m\u001b[38;5;124;43m\"\u001b[39;49m\u001b[38;5;124;43mangle_azimuth\u001b[39;49m\u001b[38;5;124;43m\"\u001b[39;49m\u001b[43m,\u001b[49m\u001b[38;5;124;43m\"\u001b[39;49m\u001b[38;5;124;43mhits2_width_mean\u001b[39;49m\u001b[38;5;124;43m\"\u001b[39;49m\u001b[43m)\u001b[49m\u001b[38;5;241m.\u001b[39mDraw()\n",
      "File \u001b[0;32m/cvmfs/larsoft.opensciencegrid.org/products/root/v6_22_08d/Linux64bit+3.10-2.17-e20-p392-prof/lib/ROOT/pythonization/_rdataframe.py:122\u001b[0m, in \u001b[0;36m_histo_profile\u001b[0;34m(self, fixed_args, *args)\u001b[0m\n\u001b[1;32m    118\u001b[0m         res \u001b[38;5;241m=\u001b[39m original_method(model)\n\u001b[1;32m    119\u001b[0m \u001b[38;5;66;03m# If the first argument is not a tuple, nothing to do, just call\u001b[39;00m\n\u001b[1;32m    120\u001b[0m \u001b[38;5;66;03m# the original implementation\u001b[39;00m\n\u001b[1;32m    121\u001b[0m \u001b[38;5;28;01melse\u001b[39;00m:\n\u001b[0;32m--> 122\u001b[0m     res \u001b[38;5;241m=\u001b[39m \u001b[43moriginal_method\u001b[49m\u001b[43m(\u001b[49m\u001b[38;5;241;43m*\u001b[39;49m\u001b[43margs\u001b[49m\u001b[43m)\u001b[49m\n\u001b[1;32m    124\u001b[0m \u001b[38;5;28;01mreturn\u001b[39;00m res\n",
      "\u001b[0;31mTypeError\u001b[0m: Template method resolution failed:\n  none of the 2 overloaded methods succeeded. Full details:\n  ROOT::RDF::RResultPtr<TProfile> ROOT::RDF::RInterface<ROOT::Detail::RDF::RJittedFilter,void>::Profile1D(const ROOT::RDF::TProfile1DModel& model, basic_string_view<char,char_traits<char> > v1Name, basic_string_view<char,char_traits<char> > v2Name, basic_string_view<char,char_traits<char> > wName) =>\n    TypeError: takes at least 4 arguments (2 given)\n  ROOT::RDF::RResultPtr<TProfile> ROOT::RDF::RInterface<ROOT::Detail::RDF::RJittedFilter,void>::Profile1D(const ROOT::RDF::TProfile1DModel& model, basic_string_view<char,char_traits<char> > v1Name = \"\", basic_string_view<char,char_traits<char> > v2Name = \"\") =>\n    TypeError: could not convert argument 1\n  Failed to instantiate \"Profile1D(std::string,std::string)\""
     ]
    }
   ],
   "source": [
    "df_data_stopping_planes[2].Profile1D(\"angle_azimuth\",\"hits2_width_mean\").Draw()"
   ]
  },
  {
   "cell_type": "code",
   "execution_count": 51,
   "id": "820de06c",
   "metadata": {},
   "outputs": [
    {
     "data": {
      "text/plain": [
       "<cppyy.gbl.ROOT.RDF.RResultPtr<TH1D> object at 0x20b9fa50>"
      ]
     },
     "execution_count": 51,
     "metadata": {},
     "output_type": "execute_result"
    }
   ],
   "source": [
    "df_data_stopping_planes[2].Histo1D(\"angle_azimuth\")"
   ]
  },
  {
   "cell_type": "code",
   "execution_count": null,
   "id": "900e8105",
   "metadata": {},
   "outputs": [],
   "source": []
  }
 ],
 "metadata": {
  "kernelspec": {
   "display_name": "Python 3 (ipykernel)",
   "language": "python",
   "name": "python3"
  },
  "language_info": {
   "codemirror_mode": {
    "name": "ipython",
    "version": 3
   },
   "file_extension": ".py",
   "mimetype": "text/x-python",
   "name": "python",
   "nbconvert_exporter": "python",
   "pygments_lexer": "ipython3",
   "version": "3.9.2"
  }
 },
 "nbformat": 4,
 "nbformat_minor": 5
}
